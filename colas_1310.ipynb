{
  "nbformat": 4,
  "nbformat_minor": 0,
  "metadata": {
    "colab": {
      "name": "colas_1310.ipynb",
      "provenance": [],
      "authorship_tag": "ABX9TyNAj1Yoi+Oj6ryV8+k784Qt",
      "include_colab_link": true
    },
    "kernelspec": {
      "name": "python3",
      "display_name": "Python 3"
    },
    "language_info": {
      "name": "python"
    }
  },
  "cells": [
    {
      "cell_type": "markdown",
      "metadata": {
        "id": "view-in-github",
        "colab_type": "text"
      },
      "source": [
        "<a href=\"https://colab.research.google.com/github/RagdeOlvera/Estructura_Datos_1310/blob/main/colas_1310.ipynb\" target=\"_parent\"><img src=\"https://colab.research.google.com/assets/colab-badge.svg\" alt=\"Open In Colab\"/></a>"
      ]
    },
    {
      "cell_type": "code",
      "metadata": {
        "id": "BhJfgNK3J8ZY"
      },
      "source": [
        "class Queue:\n",
        "    def __init__( self ):\n",
        "        self.data = []\n",
        "\n",
        "    def is_empty( self ):\n",
        "        return len(self.data) == 0\n",
        "    \n",
        "    def lenght( self ):\n",
        "        return len( self.data )\n",
        "\n",
        "    def enqueue( self , value ):\n",
        "        self.data.append( value )\n",
        "\n",
        "    def dequeue( self ):\n",
        "        return self.data.pop(0)\n",
        "\n",
        "    def to_string( self ):\n",
        "        for elem in self.data:\n",
        "            print(f\"| {elem} | <---\" ,end = \"\" )\n",
        "        print(\"\")"
      ],
      "execution_count": 1,
      "outputs": []
    },
    {
      "cell_type": "code",
      "metadata": {
        "colab": {
          "base_uri": "https://localhost:8080/"
        },
        "id": "nKZop8IUNaGa",
        "outputId": "cd5f6286-461c-4fe4-c4eb-2ece3ad515d3"
      },
      "source": [
        "cola = Queue()\n",
        "print(f\"Esta vacio? {cola.is_empty()}\")\n",
        "print(f\"Longitud: {cola.lenght()}\")\n",
        "cola.enqueue(10)\n",
        "cola.enqueue(20)\n",
        "cola.enqueue(30)\n",
        "print(f\"Esta vacio? {cola.is_empty()}\")\n",
        "print(f\"Longitud: {cola.lenght()}\")\n",
        "cola.enqueue(40)\n",
        "cola.enqueue(50)\n",
        "cola.enqueue(60)\n",
        "cola.to_string()\n",
        "siguiente = cola.dequeue()\n",
        "print(\"Atendiendo a: \" , siguiente )\n",
        "cola.to_string()"
      ],
      "execution_count": 2,
      "outputs": [
        {
          "output_type": "stream",
          "name": "stdout",
          "text": [
            "Esta vacio? True\n",
            "Longitud: 0\n",
            "Esta vacio? False\n",
            "Longitud: 3\n",
            "| 10 | <---| 20 | <---| 30 | <---| 40 | <---| 50 | <---| 60 | <---\n",
            "Atendiendo a:  10\n",
            "| 20 | <---| 30 | <---| 40 | <---| 50 | <---| 60 | <---\n"
          ]
        }
      ]
    },
    {
      "cell_type": "markdown",
      "metadata": {
        "id": "aFBmEF2LQhr3"
      },
      "source": [
        "# Variantes del ADT Colas \n",
        "1. Circulares\n",
        "1. Prioridad\n",
        "    1. Acotada\n",
        "    1. No Acotada "
      ]
    },
    {
      "cell_type": "code",
      "metadata": {
        "id": "Ts3CNpoNoLIf"
      },
      "source": [
        "#PriorityQueue\n",
        "class PriorityQueue:\n",
        "    def __init__( self ):\n",
        "        self.data = []\n",
        "        self.control = []\n",
        "\n",
        "    def is_empty( self ):\n",
        "        return len(self.data) == 0\n",
        "        \n",
        "    def empty_control(self):\n",
        "        return len(self.control) == 0\n",
        "    \n",
        "    \n",
        "    def lenght( self ):\n",
        "        return len(self.data)\n",
        "\n",
        "    def enqueue( self , prioridad , value ):\n",
        "        if prioridad < 1:\n",
        "            self.data.append(value)\n",
        "\n",
        "        elif prioridad > 0:\n",
        "\n",
        "            self.control.append( prioridad )\n",
        "            self.control.sort()\n",
        "\n",
        "            x = (self.control.count(int(prioridad)))\n",
        "            suma = 0\n",
        "            for num in range(prioridad):\n",
        "                e = self.control.count(num)\n",
        "                suma += e\n",
        "            self.data.insert( suma , value)\n",
        "\n",
        "        \n",
        "\n",
        "    def dequeue( self ):\n",
        "        if self.is_empty() == True:\n",
        "            print(\"Nada que sacar\")\n",
        "        else:\n",
        "            if self.empty_control == True:\n",
        "                self.data.pop(0)\n",
        "                print(\"Salieron todos los valores con prioridad\")\n",
        "            else:\n",
        "                self.data.pop(0)\n",
        "                self.control.pop(0)\n",
        "    \n",
        "    def to_string( self ):\n",
        "        for elem in self.data:\n",
        "            print(f\"| {elem} | <---\" ,end = \"\" )\n",
        "        print(\"\")       \n",
        "\n",
        "        print(\"Control_Prioridad\")\n",
        "        for x in self.control:\n",
        "            print(f\"| {x} | <---\" ,end = \"\" )\n",
        "        print(\"\\n\\n\")\n"
      ],
      "execution_count": 61,
      "outputs": []
    },
    {
      "cell_type": "code",
      "metadata": {
        "colab": {
          "base_uri": "https://localhost:8080/"
        },
        "id": "CWcEk5sforri",
        "outputId": "c54281e9-be91-4d22-82cb-b0312e894eed"
      },
      "source": [
        "ejemplo = PriorityQueue()\n",
        "ejemplo.enqueue(1 , \"Valor1\")\n",
        "ejemplo.enqueue(3 , \"Valor2\")\n",
        "ejemplo.enqueue(2 , \"Valor3\")\n",
        "ejemplo.enqueue(2 , \"Valor4\")\n",
        "ejemplo.enqueue(3 , \"Valor5\")\n",
        "ejemplo.enqueue(1 , \"Valor6\")\n",
        "ejemplo.enqueue(4 , \"Valor7\")\n",
        "ejemplo.enqueue(0 , \"Valor8\")\n",
        "ejemplo.enqueue(0 , \"Valor9\")\n",
        "ejemplo.to_string()\n",
        "ejemplo.dequeue()\n",
        "ejemplo.dequeue()\n",
        "ejemplo.dequeue()\n",
        "ejemplo.dequeue()\n",
        "ejemplo.dequeue()\n",
        "ejemplo.dequeue()\n",
        "ejemplo.dequeue()\n",
        "\n",
        "ejemplo.to_string()\n"
      ],
      "execution_count": 63,
      "outputs": [
        {
          "output_type": "stream",
          "name": "stdout",
          "text": [
            "| Valor6 | <---| Valor1 | <---| Valor4 | <---| Valor3 | <---| Valor5 | <---| Valor2 | <---| Valor7 | <---| Valor8 | <---| Valor9 | <---\n",
            "Control_Prioridad\n",
            "| 1 | <---| 1 | <---| 2 | <---| 2 | <---| 3 | <---| 3 | <---| 4 | <---\n",
            "\n",
            "\n",
            "| Valor8 | <---| Valor9 | <---\n",
            "Control_Prioridad\n",
            "\n",
            "\n",
            "\n"
          ]
        }
      ]
    }
  ]
}