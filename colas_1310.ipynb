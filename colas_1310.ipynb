{
  "nbformat": 4,
  "nbformat_minor": 0,
  "metadata": {
    "colab": {
      "name": "colas_1310.ipynb",
      "provenance": [],
      "authorship_tag": "ABX9TyPy4utabBAtzBjm3tBXJqxW",
      "include_colab_link": true
    },
    "kernelspec": {
      "name": "python3",
      "display_name": "Python 3"
    },
    "language_info": {
      "name": "python"
    }
  },
  "cells": [
    {
      "cell_type": "markdown",
      "metadata": {
        "id": "view-in-github",
        "colab_type": "text"
      },
      "source": [
        "<a href=\"https://colab.research.google.com/github/RagdeOlvera/Estructura_Datos_1310/blob/main/colas_1310.ipynb\" target=\"_parent\"><img src=\"https://colab.research.google.com/assets/colab-badge.svg\" alt=\"Open In Colab\"/></a>"
      ]
    },
    {
      "cell_type": "code",
      "metadata": {
        "id": "BhJfgNK3J8ZY"
      },
      "source": [
        "class Queue:\n",
        "    def __init__( self ):\n",
        "        self.data = []\n",
        "\n",
        "    def is_empty( self ):\n",
        "        return len(self.data) == 0\n",
        "    \n",
        "    def lenght( self ):\n",
        "        return len( self.data )\n",
        "\n",
        "    def enqueue( self , value ):\n",
        "        self.data.append( value )\n",
        "\n",
        "    def dequeue( self ):\n",
        "        return self.data.pop(0)\n",
        "\n",
        "    def to_string( self ):\n",
        "        for elem in self.data:\n",
        "            print(f\"| {elem} | <---\" ,end = \"\" )\n",
        "        print(\"\")"
      ],
      "execution_count": 1,
      "outputs": []
    },
    {
      "cell_type": "code",
      "metadata": {
        "colab": {
          "base_uri": "https://localhost:8080/"
        },
        "id": "nKZop8IUNaGa",
        "outputId": "e827d671-a6fe-4aee-cfef-8346ab9b62fb"
      },
      "source": [
        "cola = Queue()\n",
        "print(f\"Esta vacio? {cola.is_empty()}\")\n",
        "print(f\"Longitud: {cola.lenght()}\")\n",
        "cola.enqueue(10)\n",
        "cola.enqueue(20)\n",
        "cola.enqueue(30)\n",
        "print(f\"Esta vacio? {cola.is_empty()}\")\n",
        "print(f\"Longitud: {cola.lenght()}\")\n",
        "cola.enqueue(40)\n",
        "cola.enqueue(50)\n",
        "cola.enqueue(60)\n",
        "cola.to_string()\n",
        "siguiente = cola.dequeue()\n",
        "print(\"Atendiendo a: \" , siguiente )\n",
        "cola.to_string()"
      ],
      "execution_count": 2,
      "outputs": [
        {
          "output_type": "stream",
          "name": "stdout",
          "text": [
            "Esta vacio? True\n",
            "Longitud: 0\n",
            "Esta vacio? False\n",
            "Longitud: 3\n",
            "| 10 | <---| 20 | <---| 30 | <---| 40 | <---| 50 | <---| 60 | <---\n",
            "Atendiendo a:  10\n",
            "| 20 | <---| 30 | <---| 40 | <---| 50 | <---| 60 | <---\n"
          ]
        }
      ]
    },
    {
      "cell_type": "markdown",
      "metadata": {
        "id": "aFBmEF2LQhr3"
      },
      "source": [
        "# Variantes del ADT Colas \n",
        "1. Circulares\n",
        "1. Prioridad\n",
        "    1. Acotada\n",
        "    1. No Acotada "
      ]
    },
    {
      "cell_type": "code",
      "metadata": {
        "id": "Ts3CNpoNoLIf"
      },
      "source": [
        "#PriorityQueue\n",
        "class PriorityQueue:\n",
        "    def __init__( self ):\n",
        "        self.data = []\n",
        "        self.control = []\n",
        "\n",
        "    def is_empty( self ):\n",
        "        return len(self.data) == 0\n",
        "        \n",
        "    def empty_control(self):\n",
        "        return len(self.control) == 0\n",
        "    \n",
        "    \n",
        "    def lenght( self ):\n",
        "        return len(self.data)\n",
        "\n",
        "    def enqueue( self , prioridad , value ):\n",
        "        if prioridad < 1:\n",
        "            self.data.append(value)\n",
        "\n",
        "        elif prioridad > 0:\n",
        "\n",
        "            self.control.append( prioridad )\n",
        "            self.control.sort()\n",
        "\n",
        "            x = (self.control.count(int(prioridad)))\n",
        "            suma = 0\n",
        "            for num in range(prioridad):\n",
        "                e = self.control.count(num)\n",
        "                suma += e\n",
        "            self.data.insert( suma , value)\n",
        "\n",
        "        \n",
        "\n",
        "    def dequeue( self ):\n",
        "        if self.is_empty() == True:\n",
        "            print(\"Nada que sacar\")\n",
        "        else:\n",
        "            if self.empty_control == True:\n",
        "                self.data.pop(0)\n",
        "                print(\"Salieron todos los valores con prioridad\")\n",
        "            else:\n",
        "                self.data.pop(0)\n",
        "                self.control.pop(0)\n",
        "    \n",
        "    def to_string( self ):\n",
        "        for elem in self.data:\n",
        "            print(f\"| {elem} | <---\" ,end = \"\" )\n",
        "        print(\"\")       \n",
        "\n",
        "        print(\"Control_Prioridad\")\n",
        "        for x in self.control:\n",
        "            print(f\"| {x} | <---\" ,end = \"\" )\n",
        "        print(\"\\n\\n\")\n"
      ],
      "execution_count": 3,
      "outputs": []
    },
    {
      "cell_type": "code",
      "metadata": {
        "colab": {
          "base_uri": "https://localhost:8080/"
        },
        "id": "CWcEk5sforri",
        "outputId": "95a69b68-d679-4e42-e554-c9983e520389"
      },
      "source": [
        "ejemplo = PriorityQueue()\n",
        "ejemplo.enqueue(1 , \"Valor1\")\n",
        "ejemplo.enqueue(3 , \"Valor2\")\n",
        "ejemplo.enqueue(2 , \"Valor3\")\n",
        "ejemplo.enqueue(2 , \"Valor4\")\n",
        "ejemplo.enqueue(3 , \"Valor5\")\n",
        "ejemplo.enqueue(1 , \"Valor6\")\n",
        "ejemplo.enqueue(4 , \"Valor7\")\n",
        "ejemplo.enqueue(0 , \"Valor8\")\n",
        "ejemplo.enqueue(0 , \"Valor9\")\n",
        "ejemplo.to_string()\n",
        "ejemplo.dequeue()\n",
        "ejemplo.dequeue()\n",
        "ejemplo.dequeue()\n",
        "ejemplo.dequeue()\n",
        "ejemplo.dequeue()\n",
        "ejemplo.dequeue()\n",
        "ejemplo.dequeue()\n",
        "\n",
        "ejemplo.to_string()\n"
      ],
      "execution_count": 4,
      "outputs": [
        {
          "output_type": "stream",
          "name": "stdout",
          "text": [
            "| Valor6 | <---| Valor1 | <---| Valor4 | <---| Valor3 | <---| Valor5 | <---| Valor2 | <---| Valor7 | <---| Valor8 | <---| Valor9 | <---\n",
            "Control_Prioridad\n",
            "| 1 | <---| 1 | <---| 2 | <---| 2 | <---| 3 | <---| 3 | <---| 4 | <---\n",
            "\n",
            "\n",
            "| Valor8 | <---| Valor9 | <---\n",
            "Control_Prioridad\n",
            "\n",
            "\n",
            "\n"
          ]
        }
      ]
    },
    {
      "cell_type": "code",
      "metadata": {
        "id": "3ftiykR8GSpv"
      },
      "source": [
        "class BoundedPriorityQueue:\n",
        "    def __init__( self , niveles ):\n",
        "        self.__data = [ Queue() for x in range( niveles ) ]\n",
        "        #self.__data = Array(niveles)\n",
        "        #self.__data.clear( Queue() )\n",
        "        self.__size = 0 # el numero de elementos ya ingresados\n",
        "\n",
        "    def is_empty( self ):\n",
        "        return self.__size == 0\n",
        "\n",
        "    def length( self ):\n",
        "        return self.__size\n",
        "\n",
        "    def enqueue( self , prioridad , elem ):\n",
        "        if prioridad < len( self.__data) and prioridad >= 0:\n",
        "            self.__data[ prioridad ].enqueue( elem )\n",
        "            self.__size += 1\n",
        "    \n",
        "    def dequeue( self ):\n",
        "        nivel = 0\n",
        "        while self.__data[ nivel ].is_empty() and nivel < self.length():\n",
        "            nivel += 1\n",
        "\n",
        "        if nivel >= self.length():\n",
        "            print( \"La cola esta vacia...\" )\n",
        "        else: \n",
        "            return self.__data[ nivel ].dequeue()\n",
        "\n",
        "    def to_string( self ):\n",
        "        prioridad = 0\n",
        "        for cola in self.__data:\n",
        "            print(f\"Prioridad { prioridad } --> \" , end =\"\")\n",
        "            cola.to_string()\n",
        "            prioridad += 1"
      ],
      "execution_count": 37,
      "outputs": []
    },
    {
      "cell_type": "code",
      "metadata": {
        "colab": {
          "base_uri": "https://localhost:8080/"
        },
        "id": "yoB5xAWzLO0u",
        "outputId": "bcbf48d4-e16b-4dbb-d6ef-92eccc584677"
      },
      "source": [
        "# Prueba de la cola con prioridad.\n",
        "ejemplo = BoundedPriorityQueue(5)\n",
        "print(f\"Esta vacia? :  {ejemplo.is_empty()}\")\n",
        "print(f\"Tamaño de la lista actual:  { ejemplo.length() }\")\n",
        "\n",
        "ejemplo.enqueue( 4 , \"Maestre\")\n",
        "ejemplo.enqueue( 1 , \"Niños\")\n",
        "ejemplo.enqueue( 4 , \"Mecanico\")\n",
        "\n",
        "ejemplo.enqueue( 3 , \"Mujeres\")\n",
        "ejemplo.enqueue( 2 , \"Tercera Edad\")\n",
        "ejemplo.enqueue( 1 , \"Niñas\")\n",
        "\n",
        "ejemplo.enqueue( 3 , \"Hombres\")\n",
        "ejemplo.enqueue( 4 , \"Vijia\")\n",
        "ejemplo.enqueue( 5 , \"Capitan\")\n",
        "\n",
        "ejemplo.to_string()\n",
        "\n",
        "sig = ejemplo.dequeue()\n",
        "print(f\"Subiendo a {sig} al bote salvavidas!!!\")\n",
        "\n",
        "ejemplo.to_string()\n"
      ],
      "execution_count": 43,
      "outputs": [
        {
          "output_type": "stream",
          "name": "stdout",
          "text": [
            "Esta vacia? :  True\n",
            "Tamaño de la lista actual:  0\n",
            "Prioridad 0 --> \n",
            "Prioridad 1 --> | Niños | <---| Niñas | <---\n",
            "Prioridad 2 --> | Tercera Edad | <---\n",
            "Prioridad 3 --> | Mujeres | <---| Hombres | <---\n",
            "Prioridad 4 --> | Maestre | <---| Mecanico | <---| Vijia | <---\n",
            "Subiendo a Niños al bote salvavidas!!!\n",
            "Prioridad 0 --> \n",
            "Prioridad 1 --> | Niñas | <---\n",
            "Prioridad 2 --> | Tercera Edad | <---\n",
            "Prioridad 3 --> | Mujeres | <---| Hombres | <---\n",
            "Prioridad 4 --> | Maestre | <---| Mecanico | <---| Vijia | <---\n"
          ]
        }
      ]
    },
    {
      "cell_type": "code",
      "metadata": {
        "id": "RdQAdSpRSBK8"
      },
      "source": [
        "# implementacion de la colas de prioridad  sin acotamientos\n",
        "class PriorityQueue:\n",
        "    def __init__( self ):\n",
        "        self.__data = [ ]\n",
        "        self.__size = 0\n",
        "\n",
        "    def is_empty( self ):\n",
        "        return self.__size == 0\n",
        "\n",
        "    def length( self ):\n",
        "        return self.__size\n",
        "\n",
        "    def enqueue( self , prioridad , elem ):\n",
        "        existe = False\n",
        "        indice = 0\n",
        "        for index in range(len(self.__data)):\n",
        "            if self.__data[index][\"prioridad\"] == prioridad:\n",
        "                existe = True\n",
        "                indice = index\n",
        "        \n",
        "        if existe:\n",
        "            self.__data[indice][\"cola\"].enqueue( elem )\n",
        "        else:\n",
        "            self.__data.append( { \"prioridad\" : prioridad , \"cola\" : Queue() } )\n",
        "            self.__data[-1][\"cola\"].enqueue(elem)\n",
        "\n",
        "    def to_string( self ):\n",
        "        for cola in self.__data:\n",
        "            cola[\"cola\"].to_string()"
      ],
      "execution_count": 68,
      "outputs": []
    },
    {
      "cell_type": "code",
      "metadata": {
        "colab": {
          "base_uri": "https://localhost:8080/"
        },
        "id": "qk5i42t4TTF6",
        "outputId": "dbe98cb6-051b-4746-d33d-1de15fdbca11"
      },
      "source": [
        "ej = PriorityQueue()\n",
        "ej.enqueue(1 , \"ej1\")\n",
        "ej.enqueue(3 , \"ej3\")\n",
        "ej.enqueue(5 , \"ej5\")\n",
        "ej.enqueue(2 , \"ej2\")\n",
        "ej.to_string()"
      ],
      "execution_count": 69,
      "outputs": [
        {
          "output_type": "stream",
          "name": "stdout",
          "text": [
            "| ej1 | <---\n",
            "| ej3 | <---\n",
            "| ej5 | <---\n",
            "| ej2 | <---\n"
          ]
        }
      ]
    }
  ]
}