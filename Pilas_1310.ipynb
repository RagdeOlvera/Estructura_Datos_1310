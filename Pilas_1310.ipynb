{
  "nbformat": 4,
  "nbformat_minor": 0,
  "metadata": {
    "colab": {
      "name": "Pilas_1310.ipynb",
      "provenance": [],
      "authorship_tag": "ABX9TyOeB9al64bSWTdtqaZU5zM7",
      "include_colab_link": true
    },
    "kernelspec": {
      "name": "python3",
      "display_name": "Python 3"
    },
    "language_info": {
      "name": "python"
    }
  },
  "cells": [
    {
      "cell_type": "markdown",
      "metadata": {
        "id": "view-in-github",
        "colab_type": "text"
      },
      "source": [
        "<a href=\"https://colab.research.google.com/github/RagdeOlvera/Estructura_Datos_1310/blob/main/Pilas_1310.ipynb\" target=\"_parent\"><img src=\"https://colab.research.google.com/assets/colab-badge.svg\" alt=\"Open In Colab\"/></a>"
      ]
    },
    {
      "cell_type": "code",
      "metadata": {
        "id": "PyOiV996MvbW"
      },
      "source": [
        "class StackADT:\n",
        "    def __init__( self ):\n",
        "        self.__data = list()\n",
        "\n",
        "# regresa true si la pila esta vacia.\n",
        "    def is_empty( self ):\n",
        "        return len( self.__data ) == 0\n",
        "\n",
        "    def get_length( self ):\n",
        "        return len( self.__data )\n",
        "    \n",
        "    def pop( self ):\n",
        "        if self.is_empty():\n",
        "            print(\"Pila vacia. Nada que sacar.\")\n",
        "        else:\n",
        "            return self.__data.pop()\n",
        "\n",
        "    def peek( self ):\n",
        "        if self.is_empty():\n",
        "            print(\"Pila vacia. Nada que sacar.\")\n",
        "        else:\n",
        "            return self.__data[ -1 ]\n",
        "\n",
        "    def push( self , value ):\n",
        "        self.__data.append( value )\n",
        "\n",
        "    def to_string( self ):\n",
        "        for item in self.__data[::-1]:\n",
        "            print(f\"| { item } | \" )"
      ],
      "execution_count": 1,
      "outputs": []
    },
    {
      "cell_type": "code",
      "metadata": {
        "colab": {
          "base_uri": "https://localhost:8080/"
        },
        "id": "ih4fpUMSQdWi",
        "outputId": "4012b07b-d750-4fc6-efe6-dbd2ec2cb07b"
      },
      "source": [
        "pila = StackADT()\n",
        "print(\"Esta vacia ? = \", pila.is_empty() )\n",
        "print(\"No. elementos: \" , pila.get_length() )\n",
        "pila.push(10)\n",
        "\n",
        "print(\"Esta vacia ? = \", pila.is_empty() )\n",
        "print(\"No. elementos: \" , pila.get_length() )\n",
        "\n",
        "pila.push(20)\n",
        "pila.push(30)\n",
        "pila.push(40)\n",
        "\n",
        "pila.to_string()\n",
        "print(pila.pop())\n",
        "pila.to_string()\n",
        "print(pila.peek())\n",
        "pila.to_string()"
      ],
      "execution_count": 2,
      "outputs": [
        {
          "output_type": "stream",
          "name": "stdout",
          "text": [
            "Esta vacia ? =  True\n",
            "No. elementos:  0\n",
            "Esta vacia ? =  False\n",
            "No. elementos:  1\n",
            "| 40 | \n",
            "| 30 | \n",
            "| 20 | \n",
            "| 10 | \n",
            "40\n",
            "| 30 | \n",
            "| 20 | \n",
            "| 10 | \n",
            "30\n",
            "| 30 | \n",
            "| 20 | \n",
            "| 10 | \n"
          ]
        }
      ]
    },
    {
      "cell_type": "markdown",
      "metadata": {
        "id": "kDB2uUNByhoW"
      },
      "source": [
        "#Aplicacion de pilas, Blanceo de llaves en programacion.\n"
      ]
    },
    {
      "cell_type": "code",
      "metadata": {
        "colab": {
          "base_uri": "https://localhost:8080/"
        },
        "id": "dL321GoRzFJi",
        "outputId": "d4388e45-e672-4b7b-8a5c-4da2befb0b46"
      },
      "source": [
        "!cat \"prog.txt\""
      ],
      "execution_count": 8,
      "outputs": [
        {
          "output_type": "stream",
          "name": "stdout",
          "text": [
            "#include <stdio.h>\r\n",
            "int main()\r\n",
            "{\r\n",
            "    int num, count, sum = 0;\r\n",
            "\r\n",
            "    printf(\"Enter a positive integer: \");\r\n",
            "    scanf(\"%d\", &num);\r\n",
            "\r\n",
            "    // for loop terminates when num is less than count\r\n",
            "    for(count = 1; count <= num; ++count)\r\n",
            "    {\r\n",
            "        sum += count;\r\n",
            "    }\r\n",
            "\r\n",
            "    printf(\"Sum = %d\", sum);\r\n",
            "\r\n",
            "    return 0;\r\n",
            "}"
          ]
        }
      ]
    },
    {
      "cell_type": "code",
      "metadata": {
        "colab": {
          "base_uri": "https://localhost:8080/"
        },
        "id": "oEfQuV_izvm5",
        "outputId": "ea205f68-6243-40d6-ba60-336fa7e579c6"
      },
      "source": [
        "entrada = open('prog.txt' , 'rt')\n",
        "codigo = entrada.read()\n",
        "#print(codigo)\n",
        "pilaControl = StackADT()\n",
        "pilaControl.push(\"#\") #caracter de pila vacia\n",
        "\n",
        "for letra in codigo:\n",
        "    #print(f\"---> { letra } <---\")\n",
        "    if letra == '{': #regla 1\n",
        "        pilaControl.push('{')\n",
        "    elif letra == '}': #regla 2\n",
        "        basura = pilaControl.pop()\n",
        "    else:\n",
        "        pass\n",
        "\n",
        "    # Nota: Este codigo aun no contempla desvalanceo\n",
        "if pilaControl.peek() == '#':\n",
        "    print(\"El codio proporcionado está correctamente balanceado.\")\n",
        "else:\n",
        "    print(\"El codigo no esta balanceado en llaves\")"
      ],
      "execution_count": 38,
      "outputs": [
        {
          "output_type": "stream",
          "name": "stdout",
          "text": [
            "El codio proporcionado está correctamente balanceado.\n"
          ]
        }
      ]
    },
    {
      "cell_type": "markdown",
      "metadata": {
        "id": "oGqkfZOh40x7"
      },
      "source": [
        "1.- Hacer unprograma que impemente el algoritmo de pila vacía para verificar balanceo de llaves ( '{' y '}') y balanceo de parénteisis ( '(' y ')') para codigo de programacion C y, C++ y Java\n",
        "\n",
        "2.- Tiene que detener el análisis cuando se detcte que los parecentesis o llaves estan desbalanceados\n",
        "\n",
        "3.-Idealmente (No obligatorio) encapsular esta lógica en una clase (ADT) de la POO"
      ]
    },
    {
      "cell_type": "markdown",
      "metadata": {
        "id": "SGoYB0TC7JWx"
      },
      "source": [
        "#Aplicacion de Pilas.\n",
        "##Estrategias de diseño de algoritmos BACKTRACKING"
      ]
    }
  ]
}