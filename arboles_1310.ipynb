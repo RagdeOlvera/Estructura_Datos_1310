{
  "nbformat": 4,
  "nbformat_minor": 0,
  "metadata": {
    "colab": {
      "name": "arboles_1310.ipynb",
      "provenance": [],
      "authorship_tag": "ABX9TyMzOuZP/hd97XsabvmJGsjq",
      "include_colab_link": true
    },
    "kernelspec": {
      "name": "python3",
      "display_name": "Python 3"
    },
    "language_info": {
      "name": "python"
    }
  },
  "cells": [
    {
      "cell_type": "markdown",
      "metadata": {
        "id": "view-in-github",
        "colab_type": "text"
      },
      "source": [
        "<a href=\"https://colab.research.google.com/github/RagdeOlvera/Estructura_Datos_1310/blob/main/arboles_1310.ipynb\" target=\"_parent\"><img src=\"https://colab.research.google.com/assets/colab-badge.svg\" alt=\"Open In Colab\"/></a>"
      ]
    },
    {
      "cell_type": "code",
      "metadata": {
        "id": "l1hjR8GrCEu2"
      },
      "source": [
        "class NodoBinario:\n",
        "    def __init__( self , value , left = None , right = None ):\n",
        "        self.data = value\n",
        "        self.left = left\n",
        "        self.right = right\n",
        "\n",
        "class NodoTerciario:\n",
        "    def __init__( self , value , left = None , center = None , right = None ):\n",
        "        self.data = value\n",
        "        self.left = left\n",
        "        self.center = center\n",
        "        self.right = right"
      ],
      "execution_count": 34,
      "outputs": []
    },
    {
      "cell_type": "code",
      "metadata": {
        "colab": {
          "base_uri": "https://localhost:8080/"
        },
        "id": "65EKdOmxDyu9",
        "outputId": "99946506-c152-4006-adf5-6e07be6625a9"
      },
      "source": [
        "arbol1 = NodoBinario(\"R\" , NodoBinario(\"C\"), NodoBinario(\"H\"))\n",
        "print(arbol1.right.data)\n",
        "\n",
        "arbol2 = NodoTerciario(4 , NodoTerciario(3,\\\n",
        "        NodoTerciario(5, left = NodoTerciario(2)),\\\n",
        "        NodoTerciario(5), NodoTerciario(2)), None, NodoTerciario(5))\n",
        "\n",
        "print(arbol2.left.right.data)\n",
        "print(arbol2.data)\n",
        "print(arbol2.left.center.data)\n",
        "print(arbol2.right.left)\n",
        "print(arbol2.center)\n",
        "print(arbol2.left.left.left.data)\n",
        "\n",
        "print(\"\\n---- Sin unsar la palabra left en el print ----\")\n",
        "ejemplo = arbol2.left.left.left.data\n",
        "print(ejemplo)\n",
        "\n",
        "print(\"\\n--- Otra Forma ? ----\")\n",
        "\n",
        "aux = arbol2\n",
        "while (aux.left != None ):\n",
        "    aux = aux.left\n",
        "print(aux.data)"
      ],
      "execution_count": 35,
      "outputs": [
        {
          "output_type": "stream",
          "name": "stdout",
          "text": [
            "H\n",
            "2\n",
            "4\n",
            "5\n",
            "None\n",
            "None\n",
            "2\n",
            "\n",
            "---- Sin unsar la palabra left en el print ----\n",
            "2\n",
            "\n",
            "--- Otra Forma ? ----\n",
            "2\n"
          ]
        }
      ]
    },
    {
      "cell_type": "code",
      "metadata": {
        "id": "0ndqyymHHGed"
      },
      "source": [
        "root = NodoBinario(\"Santi\",None,NodoBinario(\"Jesus\",NodoBinario(\"Pedro\",None,NodoBinario(\" jr\"))))"
      ],
      "execution_count": 36,
      "outputs": []
    },
    {
      "cell_type": "code",
      "metadata": {
        "colab": {
          "base_uri": "https://localhost:8080/"
        },
        "id": "X4-7zbTII1eW",
        "outputId": "7ec0f41a-1445-4269-f038-37523b994e49"
      },
      "source": [
        "print(root.right.left.right.data)"
      ],
      "execution_count": 37,
      "outputs": [
        {
          "output_type": "stream",
          "name": "stdout",
          "text": [
            " jr\n"
          ]
        }
      ]
    },
    {
      "cell_type": "code",
      "metadata": {
        "id": "AMc848rNTyOl"
      },
      "source": [
        "class BinaryNode:\n",
        "    def __init__( self , value , left = None , right = None ):\n",
        "        self.data = value\n",
        "        self.left = left\n",
        "        self.right = right\n",
        "\n",
        "class BinarySearchTree:\n",
        "    def __init__( self ):\n",
        "        self.root = None\n",
        "\n",
        "    def insert(self , value ):\n",
        "        if self.root == None:\n",
        "            self.root = BinaryNode( value )\n",
        "        else:\n",
        "            self.__insert_nodo( self.root , value )\n",
        "    \n",
        "    def __insert_nodo( self , nodo , value ):\n",
        "        if nodo.data == value:\n",
        "            pass\n",
        "        elif value < nodo.data: #izq\n",
        "            if nodo.left == None:\n",
        "                nodo.left = BinaryNode( value )\n",
        "            else:\n",
        "                self.__insert_nodo( nodo.left , value )\n",
        "        else: # der\n",
        "            if nodo.right == None:\n",
        "                nodo.right = BinaryNode( value )\n",
        "            else:\n",
        "                self.__insert_nodo( nodo.right , value )\n",
        "    def transversal( self , formato = \"posorden\"):\n",
        "        if formato == \"posorden\":\n",
        "            self.recorrido_pos( self.root )\n",
        "        elif formato == \"preorden\":\n",
        "            self.recorrido_pre( self.root )\n",
        "        else: # inorden\n",
        "            self.recorrido_in( self.root )\n",
        "        print(\"\")\n",
        "\n",
        "    def recorrido_pos( self , nodo ):\n",
        "        if nodo != None:\n",
        "            self.recorrido_pos( nodo.left )\n",
        "            self.recorrido_pos( nodo.right )\n",
        "            print( str( nodo.data ) , end=\" , \" )\n",
        "\n",
        "    def recorrido_pre( self , nodo ):\n",
        "        if nodo != None:\n",
        "            print( str( nodo.data ) , end=\" , \" )\n",
        "            self.recorrido_pre( nodo.left )\n",
        "            self.recorrido_pre( nodo.right )\n",
        "\n",
        "    def recorrido_in( self , nodo ):\n",
        "        if nodo != None:\n",
        "            self.recorrido_in( nodo.left )\n",
        "            print( str( nodo.data ) , end=\" , \" )\n",
        "            self.recorrido_in( nodo.right )\n",
        "    def search( self , value ):\n",
        "        if self.root == None:\n",
        "            print(\"El arbol esta vacio ... \")\n",
        "            return None\n",
        "        else:\n",
        "            self.__search( self.root , value )\n",
        "\n",
        "    def __search( self , nodo , value ):\n",
        "        if nodo.data == None:\n",
        "            print(\"El dato no existe en el arbol \")\n",
        "            return None\n",
        "        elif nodo.data == value:\n",
        "            print(\"Encontrado ...\")\n",
        "            return nodo \n",
        "        elif value < nodo.data:\n",
        "            return self.__search( nodo.left , value )\n",
        "        else:\n",
        "            return self.__search( nodo.right , value )\n",
        "\n"
      ],
      "execution_count": 38,
      "outputs": []
    },
    {
      "cell_type": "code",
      "metadata": {
        "colab": {
          "base_uri": "https://localhost:8080/"
        },
        "id": "8jPmGmTk3lHl",
        "outputId": "d3c6d460-f47f-4bd3-83c2-6edb482616a3"
      },
      "source": [
        "ej = BinarySearchTree()\n",
        "ej.insert(60)\n",
        "ej.insert(30)\n",
        "ej.insert(15)\n",
        "ej.insert(40)\n",
        "ej.transversal(\"posorden\")\n",
        "ej.transversal(\"preorden\")\n",
        "ej.transversal(\"inorden\")\n"
      ],
      "execution_count": 40,
      "outputs": [
        {
          "output_type": "stream",
          "name": "stdout",
          "text": [
            "15 , 40 , 30 , 60 , \n",
            "60 , 30 , 15 , 40 , \n",
            "15 , 30 , 40 , 60 , \n"
          ]
        }
      ]
    }
  ]
}