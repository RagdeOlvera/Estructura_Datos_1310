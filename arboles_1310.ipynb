{
  "nbformat": 4,
  "nbformat_minor": 0,
  "metadata": {
    "colab": {
      "name": "arboles_1310.ipynb",
      "provenance": [],
      "authorship_tag": "ABX9TyNw+dea8wXsA/E4Sz5JisPj",
      "include_colab_link": true
    },
    "kernelspec": {
      "name": "python3",
      "display_name": "Python 3"
    },
    "language_info": {
      "name": "python"
    }
  },
  "cells": [
    {
      "cell_type": "markdown",
      "metadata": {
        "id": "view-in-github",
        "colab_type": "text"
      },
      "source": [
        "<a href=\"https://colab.research.google.com/github/RagdeOlvera/Estructura_Datos_1310/blob/main/arboles_1310.ipynb\" target=\"_parent\"><img src=\"https://colab.research.google.com/assets/colab-badge.svg\" alt=\"Open In Colab\"/></a>"
      ]
    },
    {
      "cell_type": "code",
      "metadata": {
        "id": "l1hjR8GrCEu2"
      },
      "source": [
        "class NodoBinario:\n",
        "    def __init__( self , value , left = None , right = None ):\n",
        "        self.data = value\n",
        "        self.left = left\n",
        "        self.right = right\n",
        "\n",
        "class NodoTerciario:\n",
        "    def __init__( self , value , left = None , center = None , right = None ):\n",
        "        self.data = value\n",
        "        self.left = left\n",
        "        self.center = center\n",
        "        self.right = right"
      ],
      "execution_count": 21,
      "outputs": []
    },
    {
      "cell_type": "code",
      "metadata": {
        "colab": {
          "base_uri": "https://localhost:8080/"
        },
        "id": "65EKdOmxDyu9",
        "outputId": "f70d8de8-b7ab-4f9c-f536-afd10c087c38"
      },
      "source": [
        "arbol1 = NodoBinario(\"R\" , NodoBinario(\"C\"), NodoBinario(\"H\"))\n",
        "print(arbol1.right.data)\n",
        "\n",
        "arbol2 = NodoTerciario(4 , NodoTerciario(3,\\\n",
        "        NodoTerciario(5, left = NodoTerciario(2)),\\\n",
        "        NodoTerciario(5), NodoTerciario(2)), None, NodoTerciario(5))\n",
        "\n",
        "print(arbol2.left.right.data)\n",
        "print(arbol2.data)\n",
        "print(arbol2.left.center.data)\n",
        "print(arbol2.right.left)\n",
        "print(arbol2.center)\n",
        "print(arbol2.left.left.left.data)\n",
        "\n",
        "print(\"\\n---- Sin unsar la palabra left en el print ----\")\n",
        "ejemplo = arbol2.left.left.left.data\n",
        "print(ejemplo)\n",
        "\n",
        "print(\"\\n--- Otra Forma ? ----\")\n",
        "\n",
        "aux = arbol2\n",
        "while (aux.left != None ):\n",
        "    aux = aux.left\n",
        "print(aux.data)"
      ],
      "execution_count": 22,
      "outputs": [
        {
          "output_type": "stream",
          "name": "stdout",
          "text": [
            "H\n",
            "2\n",
            "4\n",
            "5\n",
            "None\n",
            "None\n",
            "2\n",
            "\n",
            "---- Sin unsar la palabra left en el print ----\n",
            "2\n",
            "\n",
            "--- Otra Forma ? ----\n",
            "2\n"
          ]
        }
      ]
    },
    {
      "cell_type": "code",
      "metadata": {
        "id": "0ndqyymHHGed"
      },
      "source": [
        "root = NodoBinario(\"Santi\",None,NodoBinario(\"Jesus\",NodoBinario(\"Pedro\",None,NodoBinario(\" jr\"))))"
      ],
      "execution_count": 23,
      "outputs": []
    },
    {
      "cell_type": "code",
      "metadata": {
        "colab": {
          "base_uri": "https://localhost:8080/"
        },
        "id": "X4-7zbTII1eW",
        "outputId": "76a00805-72b5-4824-89c9-6bc55444a1ad"
      },
      "source": [
        "print(root.right.left.right.data)"
      ],
      "execution_count": 24,
      "outputs": [
        {
          "output_type": "stream",
          "name": "stdout",
          "text": [
            " jr\n"
          ]
        }
      ]
    },
    {
      "cell_type": "code",
      "metadata": {
        "id": "AMc848rNTyOl"
      },
      "source": [
        "class BinarySearchTree:\n",
        "    def __init__( self ):\n",
        "        "
      ],
      "execution_count": 25,
      "outputs": []
    }
  ]
}