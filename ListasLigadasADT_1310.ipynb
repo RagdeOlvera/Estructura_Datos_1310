{
  "nbformat": 4,
  "nbformat_minor": 0,
  "metadata": {
    "colab": {
      "name": "ListasLigadasADT_1310.ipynb",
      "provenance": [],
      "authorship_tag": "ABX9TyPBOVvi2ANKwlWUVeULs5eT",
      "include_colab_link": true
    },
    "kernelspec": {
      "name": "python3",
      "display_name": "Python 3"
    },
    "language_info": {
      "name": "python"
    }
  },
  "cells": [
    {
      "cell_type": "markdown",
      "metadata": {
        "id": "view-in-github",
        "colab_type": "text"
      },
      "source": [
        "<a href=\"https://colab.research.google.com/github/RagdeOlvera/Estructura_Datos_1310/blob/main/ListasLigadasADT_1310.ipynb\" target=\"_parent\"><img src=\"https://colab.research.google.com/assets/colab-badge.svg\" alt=\"Open In Colab\"/></a>"
      ]
    },
    {
      "cell_type": "markdown",
      "metadata": {
        "id": "RCgkWs920kfs"
      },
      "source": [
        "# Ejercicios con la clase Nodo\n",
        "\n",
        "- Crear un nodo (10)\n",
        "    - Imprimir el valor del nodo\n",
        "- Crear 2 nodos (10 , 20)\n",
        "    - Imprimir el valor de primero\n",
        "    - Imprimir el valor del segundo\n",
        "    - Transversal\n",
        "- Lo mismo pero con 4 nodos 10, 20, 30, 40\n",
        "    - Imprimir el valor del primero\n",
        "    - Imprimir el valor del ultimo\n",
        "    - Transversal\n",
        "    - Insertar el nodo 25, despues del nodo 20 y antes del nodo 30\n",
        "\n",
        "### Todo esto antes de ir a la escritura dormal del ADT Lista Ligada"
      ]
    },
    {
      "cell_type": "code",
      "metadata": {
        "id": "g6QAP64Bpzjf"
      },
      "source": [
        "class Nodo:\n",
        "    def __init__( self , value , siguiente = None ):\n",
        "        self.data = value\n",
        "        self.next = siguiente"
      ],
      "execution_count": 50,
      "outputs": []
    },
    {
      "cell_type": "code",
      "metadata": {
        "colab": {
          "base_uri": "https://localhost:8080/"
        },
        "id": "yLVuFUpr1uTk",
        "outputId": "90767c57-e9f8-44b9-e57b-d6a1b4bf97e9"
      },
      "source": [
        "head = Nodo(10)\n",
        "print( head.data )"
      ],
      "execution_count": 51,
      "outputs": [
        {
          "output_type": "stream",
          "name": "stdout",
          "text": [
            "10\n"
          ]
        }
      ]
    },
    {
      "cell_type": "code",
      "metadata": {
        "colab": {
          "base_uri": "https://localhost:8080/"
        },
        "id": "0IBBRew32gRL",
        "outputId": "9d777509-713d-428a-9991-a2ab77260f16"
      },
      "source": [
        "head = Nodo(10)\n",
        "head.next = Nodo(20)\n",
        "print(f'Primero= {head.data}')\n",
        "print(f'Segundo= {head.next.data}')\n",
        "\n",
        "# Lo mismo pero ahorrando código\n",
        "head = Nodo ( 10 , Nodo ( 20 ) )\n",
        "print(f'Primero= {head.data}')\n",
        "print(f'Segundo= {head.next.data}')\n",
        "\n",
        "# Transversal\n",
        "curr_node = head \n",
        "while curr_node != None:\n",
        "    print(f\"| { curr_node.data } | --> \" , end = \"\")\n",
        "    curr_node = curr_node.next\n",
        "print(\"\")\n",
        "\n"
      ],
      "execution_count": 52,
      "outputs": [
        {
          "output_type": "stream",
          "name": "stdout",
          "text": [
            "Primero= 10\n",
            "Segundo= 20\n",
            "Primero= 10\n",
            "Segundo= 20\n",
            "| 10 | --> | 20 | --> \n"
          ]
        }
      ]
    },
    {
      "cell_type": "code",
      "metadata": {
        "colab": {
          "base_uri": "https://localhost:8080/"
        },
        "id": "hVRFonVN2pJj",
        "outputId": "1f8004d2-5abe-48a0-e7b1-cbae347ea07c"
      },
      "source": [
        "head = Nodo(10, Nodo(20, Nodo(30, Nodo(40) ) ) )\n",
        "# Nodo(valor , siguiente)\n",
        "# Transversal\n",
        "curr_node = head \n",
        "while curr_node != None:\n",
        "    print(f\"| { curr_node.data } | --> \" , end = \"\")\n",
        "    curr_node = curr_node.next\n",
        "print(\"\")\n",
        "\n",
        "# Imprimir el primero\n",
        "print(head.data)\n",
        "# Imprimir el ultimo\n",
        "curr_node = head\n",
        "while curr_node.next != None:\n",
        "    curr_node = curr_node.next\n",
        "print(curr_node.data)\n",
        "\n",
        "# Insertar el nodo 25, despues del nodo 20 y antes del nodo 30\n",
        "curr_node = head\n",
        "while curr_node.data != 20:\n",
        "    curr_node = curr_node.next\n",
        "print(curr_node.data)\n",
        "\n",
        "#Crear el nodo 25\n",
        "curr_node.next = Nodo(25, curr_node.next)\n",
        "print(\"Despuesd de Insertar 25\")\n",
        "\n",
        "# Transversal\n",
        "curr_node = head \n",
        "while curr_node != None:\n",
        "    print(f\"| { curr_node.data } | --> \" , end = \"\")\n",
        "    curr_node = curr_node.next\n",
        "print(\"\")"
      ],
      "execution_count": 53,
      "outputs": [
        {
          "output_type": "stream",
          "name": "stdout",
          "text": [
            "| 10 | --> | 20 | --> | 30 | --> | 40 | --> \n",
            "10\n",
            "40\n",
            "20\n",
            "Despuesd de Insertar 25\n",
            "| 10 | --> | 20 | --> | 25 | --> | 30 | --> | 40 | --> \n"
          ]
        }
      ]
    },
    {
      "cell_type": "code",
      "metadata": {
        "id": "MgKfSm3Sc2h_"
      },
      "source": [
        "class LinkedList:\n",
        "    def __init__( self ):\n",
        "        self.head = None\n",
        "    \n",
        "    def is_empty( self ):\n",
        "        return self.head == None\n",
        "    \n",
        "    def get_tail( self ):\n",
        "        if self.is_empty():\n",
        "            return None\n",
        "        else: \n",
        "            curr_node = self.head\n",
        "            while curr_node.next != None:\n",
        "                curr_node = curr_node.next\n",
        "            return curr_node\n",
        "\n",
        "    def append( self , value ):\n",
        "        if self.head == None:\n",
        "            self.head = Nodo( value )\n",
        "        else:\n",
        "            curr_node = self.head\n",
        "            while curr_node.next != None:\n",
        "                curr_node = curr_node.next\n",
        "            curr_node.next = Nodo( value )\n",
        "\n",
        "    def preppend( self , value ):\n",
        "        if self.head == None:\n",
        "            print(\"Esta vacio, no se puede hacer preppend.\")\n",
        "        else: \n",
        "            aux = self.head\n",
        "            self.head = Nodo(value , aux)\n",
        "\n",
        "    def transversal( self ):\n",
        "        curr_node = self.head\n",
        "        while curr_node != None:\n",
        "            print(f\"| {curr_node.data} |  -->\", end = \"\")\n",
        "            curr_node = curr_node.next\n",
        "        print(\"\")\n",
        "    \n",
        "    def remove( self , value ):\n",
        "        if self.head == None:\n",
        "            print(\"Lista vacia; no se puede remover nada.\")\n",
        "        else: \n",
        "            curr_node = self.head\n",
        "            aux = None\n",
        "            while curr_node.data != value : #Revisar cuando el valor no exista\n",
        "                aux = curr_node\n",
        "                curr_node = curr_node.next\n",
        "            if curr_node != None:\n",
        "                aux.next = curr_node.next\n",
        "                curr_node = None\n",
        "\n",
        "    def pop( self  ): # Saca el ultimo elemento.\n",
        "        \n",
        "        if self.head == None:\n",
        "            print(\"Lista vacia; no se puede elimminar el ultimo elemento..\")\n",
        "        else:\n",
        "            curr_node = self.head\n",
        "            aux = None\n",
        "            while curr_node.data != self.get_tail().data : \n",
        "                aux = curr_node\n",
        "                curr_node = curr_node.next\n",
        "            if curr_node != None:\n",
        "                aux.next = curr_node.next\n",
        "                curr_node = None\n",
        "\n",
        "    def pop_first( self ): # Saca el primer elemento.\n",
        "        self.head = self.head.next\n"
      ],
      "execution_count": 166,
      "outputs": []
    },
    {
      "cell_type": "code",
      "metadata": {
        "colab": {
          "base_uri": "https://localhost:8080/"
        },
        "id": "BkkJsMIofb1f",
        "outputId": "f05605c7-6c01-4265-ca77-919887dacd41"
      },
      "source": [
        "lista = LinkedList()\n",
        "if lista.is_empty():\n",
        "    print(\"La lista esta vacia\")\n",
        "else:\n",
        "    print(\"La lista no esta vacia\")\n",
        "\n",
        "lista.is_empty()\n",
        "lista.pop()\n",
        "\n",
        "lista.append(10)\n",
        "lista.append(20)\n",
        "lista.append(30)\n",
        "lista.append(40)\n",
        "lista.append(50)\n",
        "lista.append(60)\n",
        "\n",
        "print(\"-----append------------\")\n",
        "lista.transversal()\n",
        "\n",
        "print(\"-----remove------------\")\n",
        "lista.remove(30)\n",
        "lista.transversal()\n",
        "\n",
        "print(\"-----preppend----------\")\n",
        "lista.preppend(5)\n",
        "lista.transversal()\n",
        "\n",
        "print(\"-----pop---------------\")\n",
        "lista.pop()\n",
        "lista.transversal()\n",
        "\n",
        "print(\"-----pop_first---------\")\n",
        "lista.pop_first()\n",
        "lista.transversal()\n",
        "\n",
        "print(\"-----get_tail----------\")\n",
        "nodo = lista.get_tail()\n",
        "if nodo != None:\n",
        "    print(nodo.data)\n",
        "else:\n",
        "    print(\"Lista esta vacia\")\n",
        "\n"
      ],
      "execution_count": 174,
      "outputs": [
        {
          "output_type": "stream",
          "name": "stdout",
          "text": [
            "La lista esta vacia\n",
            "Lista vacia; no se puede elimminar el ultimo elemento..\n",
            "-----append------------\n",
            "| 10 |  -->| 20 |  -->| 30 |  -->| 40 |  -->| 50 |  -->| 60 |  -->\n",
            "-----remove------------\n",
            "| 10 |  -->| 20 |  -->| 40 |  -->| 50 |  -->| 60 |  -->\n",
            "-----preppend----------\n",
            "| 5 |  -->| 10 |  -->| 20 |  -->| 40 |  -->| 50 |  -->| 60 |  -->\n",
            "-----pop---------------\n",
            "| 5 |  -->| 10 |  -->| 20 |  -->| 40 |  -->| 50 |  -->\n",
            "-----pop_first---------\n",
            "| 10 |  -->| 20 |  -->| 40 |  -->| 50 |  -->\n",
            "-----get_tail----------\n",
            "50\n"
          ]
        }
      ]
    },
    {
      "cell_type": "markdown",
      "metadata": {
        "id": "0NOeUv8xtoR6"
      },
      "source": [
        "# Ejercicios con la clase NodoDoble\n",
        "\n",
        "- Crear un nodo (10)\n",
        "    - Imprimir el valor del nodo\n",
        "- Crear 2 nodos (10 , 20)\n",
        "    - Imprimir el valor de primero\n",
        "    - Imprimir el valor del segundo\n",
        "    - Transversal\n",
        "- Lo mismo pero con 4 nodos 10, 20, 30, 40\n",
        "    - Imprimir el valor del primero\n",
        "    - Imprimir el valor del ultimo\n",
        "    - Transversal\n",
        "    - Reverse Transversal\n",
        "    - Insertar el nodo al final."
      ]
    },
    {
      "cell_type": "code",
      "metadata": {
        "id": "zR26VULGs40j"
      },
      "source": [
        "class NodoDoble:\n",
        "    def __init__( self , value , siguiente=None , previo=None ):\n",
        "        self.data = value\n",
        "        self.next = siguiente\n",
        "        self.prev = previo"
      ],
      "execution_count": 56,
      "outputs": []
    },
    {
      "cell_type": "code",
      "metadata": {
        "colab": {
          "base_uri": "https://localhost:8080/"
        },
        "id": "Ttm50YzJttY2",
        "outputId": "02ee900e-429a-4350-eaa5-5a3d87dfc818"
      },
      "source": [
        "# Ejercicio 1\n",
        "print(\"\\n----------------Ejercicio 1-------------------------------\\n\")\n",
        "\n",
        "head = NodoDoble(10)\n",
        "tail = head\n",
        "print(head.data)\n",
        "print(tail.data)\n",
        "\n",
        "# Ejercicio 2\n",
        "print(\"\\n----------------Ejercicio 2-------------------------------\\n\")\n",
        "head = NodoDoble( 10 , NodoDoble( 20 ))\n",
        "head.next.prev = head\n",
        "tail = head.next\n",
        "print(f\"El primero {head.data}\\nEl segundo {tail.prev.data}\")\n",
        "print(f\"El primero {head.next.data}\\nEl segundo {tail.data}\")\n",
        "\n",
        "\n",
        "print(\"\\n----------------Ejercicio 3-------------------------------\\n\")\n",
        "head = NodoDoble(10, NodoDoble(20, NodoDoble(30, NodoDoble(40))))\n",
        "tail = head.next.next.next\n",
        "head.next.prev = head\n",
        "head.next.next.prev = head.next\n",
        "tail.prev = head.next.next\n",
        "print(f\"El primero: {head.data}\")\n",
        "print(f\"El primero: {tail.prev.prev.prev.data}\\n\")\n",
        "print(f\"El ultimo:  {tail.data}\")\n",
        "print(f\"El ultimo:  {head.next.next.next.data}\")\n",
        "\n",
        "print(\"\\n----------------Transversal-------------------------------\")\n",
        "curr_node = head \n",
        "while curr_node != None:\n",
        "    print(f\"| { curr_node.data } | --> \" , end = \"\")\n",
        "    curr_node = curr_node.next\n",
        "print(\"\")\n",
        "\n",
        "print(\"\\n\\n----------------Reverse_Transversal-------------------------------\")\n",
        "curr_node = tail \n",
        "while curr_node != None:\n",
        "    print(f\"| { curr_node.data } | --> \" , end = \"\")\n",
        "    curr_node = curr_node.prev\n",
        "print(\"\")\n",
        "\n",
        "print(\"\\n\\n----------------Insertar un 50 al final-------------------------------\")\n",
        "curr_node = head \n",
        "tail.next = NodoDoble( 50 , None , tail)\n",
        "tail = tail.next\n",
        "while curr_node != None:\n",
        "    print(f\"| { curr_node.data } | --> \" , end = \"\")\n",
        "    curr_node = curr_node.next\n",
        "print(\"\")\n",
        "curr_node = tail \n",
        "while curr_node != None:\n",
        "    print(f\"| { curr_node.data } | --> \" , end = \"\")\n",
        "    curr_node = curr_node.prev\n",
        "print(\"\")"
      ],
      "execution_count": 57,
      "outputs": [
        {
          "output_type": "stream",
          "name": "stdout",
          "text": [
            "\n",
            "----------------Ejercicio 1-------------------------------\n",
            "\n",
            "10\n",
            "10\n",
            "\n",
            "----------------Ejercicio 2-------------------------------\n",
            "\n",
            "El primero 10\n",
            "El segundo 10\n",
            "El primero 20\n",
            "El segundo 20\n",
            "\n",
            "----------------Ejercicio 3-------------------------------\n",
            "\n",
            "El primero: 10\n",
            "El primero: 10\n",
            "\n",
            "El ultimo:  40\n",
            "El ultimo:  40\n",
            "\n",
            "----------------Transversal-------------------------------\n",
            "| 10 | --> | 20 | --> | 30 | --> | 40 | --> \n",
            "\n",
            "\n",
            "----------------Reverse_Transversal-------------------------------\n",
            "| 40 | --> | 30 | --> | 20 | --> | 10 | --> \n",
            "\n",
            "\n",
            "----------------Insertar un 50 al final-------------------------------\n",
            "| 10 | --> | 20 | --> | 30 | --> | 40 | --> | 50 | --> \n",
            "| 50 | --> | 40 | --> | 30 | --> | 20 | --> | 10 | --> \n"
          ]
        }
      ]
    },
    {
      "cell_type": "code",
      "metadata": {
        "id": "9xpCDiuF80Dq"
      },
      "source": [
        "class DoubleLinkedList:\n",
        "    def __init__( self ):\n",
        "        self.head = None\n",
        "        self.tail = None\n",
        "        self.size = 0\n",
        "\n",
        "    def get_size ( self ):\n",
        "        return self.size\n",
        "\n",
        "    def is_empty( self ): #True si la lista está vacia\n",
        "        return self.size == 0 \n",
        "    \n",
        "    def append( self , value ):\n",
        "        if self.is_empty():\n",
        "            self.head = NodoDoble( value )\n",
        "            self.tail = self.head\n",
        "        else: \n",
        "            self.tail.next = NodoDoble( value , None , self.tail )\n",
        "            self.tail = self.tail.next\n",
        "        self.size += 1\n",
        "\n",
        "    def transversal( self ):\n",
        "        curr_node = self.head \n",
        "        while curr_node != None:\n",
        "            print(f\"| { curr_node.data } | --> \" , end = \"\")\n",
        "            curr_node = curr_node.next\n",
        "        print(\"\")\n",
        "\n",
        "    def reverse_transversal( self ):\n",
        "        curr_node = self.tail \n",
        "        while curr_node != None:\n",
        "            print(f\"| { curr_node.data } | --> \" , end = \"\")\n",
        "            curr_node = curr_node.prev\n",
        "        print(\"\")\n",
        "\n",
        "    def remove_from_head( self , value ):\n",
        "        curr_node = self.head\n",
        "        while curr_node.data != value:\n",
        "            curr_node = curr_node.next\n",
        "\n",
        "        if curr_node.data == value:\n",
        "            #print(\"Encontrado\" , curr_node.data)\n",
        "            curr_node.prev.next = curr_node.next\n",
        "            curr_node.next.prev = curr_node.prev\n",
        "            #print( curr_node.prev.data)\n",
        "        self.size -= 1 \n",
        "\n",
        "    def remove_from_tail( self , value ):\n",
        "        curr_node = self.tail\n",
        "        while curr_node.data != value:\n",
        "            curr_node = curr_node.prev\n",
        "\n",
        "        if curr_node.data == value:\n",
        "            #print(\"Encontrado\" , curr_node.data)\n",
        "            curr_node.next.prev = curr_node.prev\n",
        "            curr_node.prev.next = curr_node.next\n",
        "            #print( curr_node.prev.data)\n",
        "        self.size -= 1 \n",
        "\n",
        "    def find_from_tail( self , value ):\n",
        "        curr_node = self.tail\n",
        "        control = 1\n",
        "        while curr_node.data != value:\n",
        "            control += 1\n",
        "            curr_node = curr_node.prev\n",
        "        \n",
        "        if curr_node.data == value:\n",
        "            print(f\"El valor está en la posición: {control} ingresando por el final.\")\n",
        "\n",
        "    def find_from_head( self , value ):\n",
        "        curr_node = self.head \n",
        "        control = 1\n",
        "        while curr_node.data != value:\n",
        "            control += 1\n",
        "            curr_node = curr_node.next\n",
        "\n",
        "        if curr_node.data == value:\n",
        "            print(f\"El valor está en la posición: {control} ingresando por el inicio\")"
      ],
      "execution_count": 218,
      "outputs": []
    },
    {
      "cell_type": "code",
      "metadata": {
        "colab": {
          "base_uri": "https://localhost:8080/"
        },
        "id": "s2Rz8yFZ_u6i",
        "outputId": "c9ea4de9-483e-437e-b391-e5aa0a31ddf2"
      },
      "source": [
        "ldl = DoubleLinkedList()\n",
        "\n",
        "print(\"------get_size-------------\")\n",
        "print(ldl.get_size())\n",
        "\n",
        "print(\"\\n------is_empty-------------\")\n",
        "print(f\"Esta vacia? {ldl.is_empty( )}\")\n",
        "\n",
        "print(\"\\n------append---------------\")\n",
        "ldl.append(10)\n",
        "ldl.append(20)\n",
        "ldl.append(30)\n",
        "ldl.append(40)\n",
        "ldl.append(50)\n",
        "ldl.append(60)\n",
        "ldl.append(70)\n",
        "ldl.append(80)\n",
        "ldl.transversal()\n",
        "\n",
        "print(f\"Nuevo Tamaño: { ldl.get_size() }\")\n",
        "\n",
        "print(\"\\n------reverse_transversal--\")\n",
        "ldl.reverse_transversal()\n",
        "\n",
        "print(\"\\n------remove_from_tail-----\")\n",
        "ldl.remove_from_tail(20)\n",
        "ldl.transversal()\n",
        "ldl.reverse_transversal()\n",
        "print(ldl.get_size())\n",
        "\n",
        "print(\"\\n------remove_from_head-----\")\n",
        "ldl.remove_from_head(30)\n",
        "ldl.transversal()\n",
        "ldl.reverse_transversal()\n",
        "ldl.get_size()\n",
        "\n",
        "print(\"\\n------find_from_head-------\")\n",
        "ldl.find_from_head(80)\n",
        "\n",
        "print(\"\\n------find_from_tail-------\")\n",
        "ldl.find_from_tail(80)"
      ],
      "execution_count": 219,
      "outputs": [
        {
          "output_type": "stream",
          "name": "stdout",
          "text": [
            "------get_size-------------\n",
            "0\n",
            "\n",
            "------is_empty-------------\n",
            "Esta vacia? True\n",
            "\n",
            "------append---------------\n",
            "| 10 | --> | 20 | --> | 30 | --> | 40 | --> | 50 | --> | 60 | --> | 70 | --> | 80 | --> \n",
            "Nuevo Tamaño: 8\n",
            "\n",
            "------reverse_transversal--\n",
            "| 80 | --> | 70 | --> | 60 | --> | 50 | --> | 40 | --> | 30 | --> | 20 | --> | 10 | --> \n",
            "\n",
            "------remove_from_tail-----\n",
            "| 10 | --> | 30 | --> | 40 | --> | 50 | --> | 60 | --> | 70 | --> | 80 | --> \n",
            "| 80 | --> | 70 | --> | 60 | --> | 50 | --> | 40 | --> | 30 | --> | 10 | --> \n",
            "7\n",
            "\n",
            "------remove_from_head-----\n",
            "| 10 | --> | 40 | --> | 50 | --> | 60 | --> | 70 | --> | 80 | --> \n",
            "| 80 | --> | 70 | --> | 60 | --> | 50 | --> | 40 | --> | 10 | --> \n",
            "\n",
            "------find_from_head-------\n",
            "El valor está en la posición: 6 ingresando por el inicio\n",
            "\n",
            "------find_from_tail-------\n",
            "El valor está en la posición: 1 ingresando por el final.\n"
          ]
        }
      ]
    }
  ]
}