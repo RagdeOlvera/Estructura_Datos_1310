{
  "nbformat": 4,
  "nbformat_minor": 0,
  "metadata": {
    "colab": {
      "name": "ListasLigadasADT_1310.ipynb",
      "provenance": [],
      "authorship_tag": "ABX9TyOeDNDyNxq9EJN/xxE6EtT8",
      "include_colab_link": true
    },
    "kernelspec": {
      "name": "python3",
      "display_name": "Python 3"
    },
    "language_info": {
      "name": "python"
    }
  },
  "cells": [
    {
      "cell_type": "markdown",
      "metadata": {
        "id": "view-in-github",
        "colab_type": "text"
      },
      "source": [
        "<a href=\"https://colab.research.google.com/github/RagdeOlvera/Estructura_Datos_1310/blob/main/ListasLigadasADT_1310.ipynb\" target=\"_parent\"><img src=\"https://colab.research.google.com/assets/colab-badge.svg\" alt=\"Open In Colab\"/></a>"
      ]
    },
    {
      "cell_type": "markdown",
      "metadata": {
        "id": "RCgkWs920kfs"
      },
      "source": [
        "# Ejercicios con la clase Nodo\n",
        "\n",
        "- Crear un nodo (10)\n",
        "    - Imprimir el valor del nodo\n",
        "- Crear 2 nodos (10 , 20)\n",
        "    - Imprimir el valor de primero\n",
        "    - Imprimir el valor del segundo\n",
        "    - Transversal\n",
        "- Lo mismo pero con 4 nodos 10, 20, 30, 40\n",
        "    - Imprimir el valor del primero\n",
        "    - Imprimir el valor del ultimo\n",
        "    - Transversal\n",
        "    - Insertar el nodo 25, despues del nodo 20 y antes del nodo 30\n",
        "\n",
        "### Todo esto antes de ir a la escritura dormal del ADT Lista Ligada"
      ]
    },
    {
      "cell_type": "code",
      "metadata": {
        "colab": {
          "base_uri": "https://localhost:8080/"
        },
        "id": "yLVuFUpr1uTk",
        "outputId": "4c066e3c-14d4-4c7b-e057-734f093b5fd0"
      },
      "source": [
        "head = Nodo(10)\n",
        "print( head.data )"
      ],
      "execution_count": null,
      "outputs": [
        {
          "output_type": "stream",
          "name": "stdout",
          "text": [
            "10\n"
          ]
        }
      ]
    },
    {
      "cell_type": "code",
      "metadata": {
        "colab": {
          "base_uri": "https://localhost:8080/"
        },
        "id": "0IBBRew32gRL",
        "outputId": "6b69e102-e184-47f5-a711-ac6f0d16a61f"
      },
      "source": [
        "head = Nodo(10)\n",
        "head.next = Nodo(20)\n",
        "print(f'Primero= {head.data}')\n",
        "print(f'Segundo= {head.next.data}')\n",
        "\n",
        "# Lo mismo pero ahorrando código\n",
        "head = Nodo ( 10 , Nodo ( 20 ) )\n",
        "print(f'Primero= {head.data}')\n",
        "print(f'Segundo= {head.next.data}')\n",
        "\n",
        "# Transversal\n",
        "curr_node = head \n",
        "while curr_node != None:\n",
        "    print(f\"| { curr_node.data } | --> \" , end = \"\")\n",
        "    curr_node = curr_node.next\n",
        "print(\"\")\n",
        "\n"
      ],
      "execution_count": null,
      "outputs": [
        {
          "output_type": "stream",
          "name": "stdout",
          "text": [
            "Primero= 10\n",
            "Segundo= 20\n",
            "Primero= 10\n",
            "Segundo= 20\n",
            "| 10 | --> | 20 | --> \n"
          ]
        }
      ]
    },
    {
      "cell_type": "code",
      "metadata": {
        "colab": {
          "base_uri": "https://localhost:8080/"
        },
        "id": "hVRFonVN2pJj",
        "outputId": "05094c34-cf56-434c-89be-30af4542b496"
      },
      "source": [
        "head = Nodo(10, Nodo(20, Nodo(30, Nodo(40) ) ) )\n",
        "# Nodo(valor , siguiente)\n",
        "# Transversal\n",
        "curr_node = head \n",
        "while curr_node != None:\n",
        "    print(f\"| { curr_node.data } | --> \" , end = \"\")\n",
        "    curr_node = curr_node.next\n",
        "print(\"\")\n",
        "\n",
        "# Imprimir el primero\n",
        "print(head.data)\n",
        "# Imprimir el ultimo\n",
        "curr_node = head\n",
        "while curr_node.next != None:\n",
        "    curr_node = curr_node.next\n",
        "print(curr_node.data)\n",
        "\n",
        "# Insertar el nodo 25, despues del nodo 20 y antes del nodo 30\n",
        "curr_node = head\n",
        "while curr_node.data != 20:\n",
        "    curr_node = curr_node.next\n",
        "print(curr_node.data)\n",
        "\n",
        "#Crear el nodo 25\n",
        "curr_node.next = Nodo(25, curr_node.next)\n",
        "print(\"Despuesd de Insertar 25\")\n",
        "\n",
        "# Transversal\n",
        "curr_node = head \n",
        "while curr_node != None:\n",
        "    print(f\"| { curr_node.data } | --> \" , end = \"\")\n",
        "    curr_node = curr_node.next\n",
        "print(\"\")"
      ],
      "execution_count": null,
      "outputs": [
        {
          "output_type": "stream",
          "name": "stdout",
          "text": [
            "| 10 | --> | 20 | --> | 30 | --> | 40 | --> \n",
            "10\n",
            "40\n",
            "20\n",
            "Despuesd de Insertar 25\n",
            "| 10 | --> | 20 | --> | 25 | --> | 30 | --> | 40 | --> \n"
          ]
        }
      ]
    },
    {
      "cell_type": "code",
      "metadata": {
        "id": "MgKfSm3Sc2h_"
      },
      "source": [
        "class Nodo:\n",
        "    def __init__( self , value , siguiente = None ):\n",
        "        self.data = value\n",
        "        self.next = siguiente\n",
        "\n",
        "class LinkedList:\n",
        "    def __init__( self ):\n",
        "        self.head = None\n",
        "    \n",
        "    def is_empty( self ):\n",
        "        return self.head == None\n",
        "    \n",
        "    def get_tail( self ):\n",
        "        if self.is_empty():\n",
        "            return None\n",
        "        else: \n",
        "            curr_node = self.head\n",
        "            while curr_node.next != None:\n",
        "                curr_node = curr_node.next\n",
        "            return curr_node\n",
        "\n",
        "    def append( self , value ):\n",
        "        if self.head == None:\n",
        "            self.head = Nodo( value )\n",
        "        else:\n",
        "            curr_node = self.head\n",
        "            while curr_node.next != None:\n",
        "                curr_node = curr_node.next\n",
        "            curr_node.next = Nodo( value )\n",
        "\n",
        "    def transversal( self ):\n",
        "        curr_node = self.head\n",
        "        while curr_node != None:\n",
        "            print(f\"| {curr_node.data} |  -->\", end = \"\")\n",
        "            curr_node = curr_node.next\n",
        "        print(\"\")\n",
        "    \n",
        "    def remove( self , value ):\n",
        "        if self.head == None:\n",
        "            print(\"Lista vacia; no se puede remover nada.\")\n",
        "        else: \n",
        "            curr_node = self.head\n",
        "            aux = None\n",
        "            while curr_node.data != value : #Revisar cuando el valor no exista\n",
        "                aux = curr_node\n",
        "                curr_node = curr_node.next\n",
        "            if curr_node != None:\n",
        "                aux.next = curr_node.next\n",
        "                curr_node = None\n",
        "\n",
        "    def preppend( self , value ):\n",
        "        if self.head == None:\n",
        "            print(\"Esta vacio, no se puede hacer preppend.\")\n",
        "        else: \n",
        "            aux = self.head\n",
        "            self.head = Nodo(value , aux)\n"
      ],
      "execution_count": null,
      "outputs": []
    },
    {
      "cell_type": "code",
      "metadata": {
        "colab": {
          "base_uri": "https://localhost:8080/"
        },
        "id": "BkkJsMIofb1f",
        "outputId": "efd39159-7e92-4ac4-965a-285e0e2d6b49"
      },
      "source": [
        "lista = LinkedList()\n",
        "if lista.is_empty():\n",
        "    print(\"La lista esta vacia\")\n",
        "else:\n",
        "    print(\"La lista no esta vacia\")\n",
        "\n",
        "lista.append(10)\n",
        "lista.append(20)\n",
        "lista.append(30)\n",
        "\n",
        "nodo = lista.get_tail()\n",
        "if nodo != None:\n",
        "    print(nodo.data)\n",
        "else:\n",
        "    print(\"Lista esta vacia\")\n",
        "lista.transversal()\n",
        "lista.remove(30)\n",
        "lista.transversal()\n",
        "lista.preppend(5)\n",
        "lista.transversal()\n"
      ],
      "execution_count": 75,
      "outputs": [
        {
          "output_type": "stream",
          "name": "stdout",
          "text": [
            "La lista esta vacia\n",
            "30\n",
            "| 10 |  -->| 20 |  -->| 30 |  -->\n",
            "| 10 |  -->| 20 |  -->\n",
            "| 5 |  -->| 10 |  -->| 20 |  -->\n"
          ]
        }
      ]
    }
  ]
}