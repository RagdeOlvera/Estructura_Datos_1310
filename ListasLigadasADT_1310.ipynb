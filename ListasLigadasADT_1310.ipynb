{
  "nbformat": 4,
  "nbformat_minor": 0,
  "metadata": {
    "colab": {
      "name": "ListasLigadasADT_1310.ipynb",
      "provenance": [],
      "authorship_tag": "ABX9TyPIIy3YfRgdPHdTt5XAvOq2",
      "include_colab_link": true
    },
    "kernelspec": {
      "name": "python3",
      "display_name": "Python 3"
    },
    "language_info": {
      "name": "python"
    }
  },
  "cells": [
    {
      "cell_type": "markdown",
      "metadata": {
        "id": "view-in-github",
        "colab_type": "text"
      },
      "source": [
        "<a href=\"https://colab.research.google.com/github/RagdeOlvera/Estructura_Datos_1310/blob/main/ListasLigadasADT_1310.ipynb\" target=\"_parent\"><img src=\"https://colab.research.google.com/assets/colab-badge.svg\" alt=\"Open In Colab\"/></a>"
      ]
    },
    {
      "cell_type": "markdown",
      "metadata": {
        "id": "RCgkWs920kfs"
      },
      "source": [
        "# Ejercicios con la clase Nodo\n",
        "\n",
        "- Crear un nodo (10)\n",
        "    - Imprimir el valor del nodo\n",
        "- Crear 2 nodos (10 , 20)\n",
        "    - Imprimir el valor de primero\n",
        "    - Imprimir el valor del segundo\n",
        "    - Transversal\n",
        "- Lo mismo pero con 4 nodos 10, 20, 30, 40\n",
        "    - Imprimir el valor del primero\n",
        "    - Imprimir el valor del ultimo\n",
        "    - Transversal\n",
        "    - Insertar el nodo 25, despues del nodo 20 y antes del nodo 30\n",
        "\n",
        "### Todo esto antes de ir a la escritura dormal del ADT Lista Ligada"
      ]
    },
    {
      "cell_type": "code",
      "metadata": {
        "id": "Zs4SAw6a0bKt"
      },
      "source": [
        "class Nodo:\n",
        "    def __init__( self , value , siguiente = None ):\n",
        "        self.data = value\n",
        "        self.next = siguiente"
      ],
      "execution_count": 4,
      "outputs": []
    },
    {
      "cell_type": "code",
      "metadata": {
        "colab": {
          "base_uri": "https://localhost:8080/"
        },
        "id": "yLVuFUpr1uTk",
        "outputId": "49b3ee09-3046-42eb-8fe3-f60f88601fa1"
      },
      "source": [
        "head = Nodo(10)\n",
        "print( head.data )"
      ],
      "execution_count": 6,
      "outputs": [
        {
          "output_type": "stream",
          "name": "stdout",
          "text": [
            "10\n"
          ]
        }
      ]
    },
    {
      "cell_type": "code",
      "metadata": {
        "colab": {
          "base_uri": "https://localhost:8080/"
        },
        "id": "0IBBRew32gRL",
        "outputId": "3d32d821-e62e-419d-eeb4-3ff4184b24d8"
      },
      "source": [
        "head = Nodo(10)\n",
        "head.next = Nodo(20)\n",
        "print(f'Primero= {head.data}')\n",
        "print(f'Segundo= {head.next.data}')\n",
        "\n",
        "# Lo mismo pero ahorrando código\n",
        "head = Nodo ( 10 , Nodo ( 20 ) )\n",
        "print(f'Primero= {head.data}')\n",
        "print(f'Segundo= {head.next.data}')\n",
        "\n",
        "# Transversal\n",
        "curr_node = head \n",
        "while curr_node != None:\n",
        "    print(f\"| { curr_node.data } | --> \" , end = \"\")\n",
        "    curr_node = curr_node.next\n",
        "print(\"\")\n",
        "\n"
      ],
      "execution_count": 26,
      "outputs": [
        {
          "output_type": "stream",
          "name": "stdout",
          "text": [
            "Primero= 10\n",
            "Segundo= 20\n",
            "Primero= 10\n",
            "Segundo= 20\n",
            "| 10 | --> | 20 | --> \n"
          ]
        }
      ]
    },
    {
      "cell_type": "code",
      "metadata": {
        "colab": {
          "base_uri": "https://localhost:8080/"
        },
        "id": "hVRFonVN2pJj",
        "outputId": "fd775da7-a595-4383-c54b-5054d0525a51"
      },
      "source": [
        "head = Nodo(10, Nodo(20, Nodo(30, Nodo(40) ) ) )\n",
        "# Nodo(valor , siguiente)\n",
        "# Transversal\n",
        "curr_node = head \n",
        "while curr_node != None:\n",
        "    print(f\"| { curr_node.data } | --> \" , end = \"\")\n",
        "    curr_node = curr_node.next\n",
        "print(\"\")\n",
        "\n",
        "# Imprimir el primero\n",
        "print(head.data)\n",
        "# Imprimir el ultimo\n",
        "curr_node = head\n",
        "while curr_node.next != None:\n",
        "    curr_node = curr_node.next\n",
        "print(curr_node.data)\n",
        "\n",
        "# Insertar el nodo 25, despues del nodo 20 y antes del nodo 30ar\n",
        "curr_node = head\n",
        "while curr_node.data != 20:\n",
        "    curr_node = curr_node.next\n",
        "print(curr_node.data)"
      ],
      "execution_count": 27,
      "outputs": [
        {
          "output_type": "stream",
          "name": "stdout",
          "text": [
            "| 10 | --> | 20 | --> | 30 | --> | 40 | --> \n",
            "10\n",
            "40\n",
            "20\n"
          ]
        }
      ]
    }
  ]
}