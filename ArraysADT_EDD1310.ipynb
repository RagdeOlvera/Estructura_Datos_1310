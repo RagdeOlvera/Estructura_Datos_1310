{
  "nbformat": 4,
  "nbformat_minor": 0,
  "metadata": {
    "colab": {
      "name": "ArraysADT_EDD1310.ipynb",
      "provenance": [],
      "authorship_tag": "ABX9TyMEQSklZCEfWWiJJQMprB1P",
      "include_colab_link": true
    },
    "kernelspec": {
      "name": "python3",
      "display_name": "Python 3"
    },
    "language_info": {
      "name": "python"
    }
  },
  "cells": [
    {
      "cell_type": "markdown",
      "metadata": {
        "id": "view-in-github",
        "colab_type": "text"
      },
      "source": [
        "<a href=\"https://colab.research.google.com/github/RagdeOlvera/Estructura_Datos_1310/blob/main/ArraysADT_EDD1310.ipynb\" target=\"_parent\"><img src=\"https://colab.research.google.com/assets/colab-badge.svg\" alt=\"Open In Colab\"/></a>"
      ]
    },
    {
      "cell_type": "code",
      "metadata": {
        "colab": {
          "base_uri": "https://localhost:8080/"
        },
        "id": "mRaHHzVFflQA",
        "outputId": "cbdbe673-be83-4389-944a-7ad619bc358e"
      },
      "source": [
        "class Array:\n",
        "    def __init__( self , tam ):\n",
        "        self.__tamanio = tam\n",
        "        self.__data = [ 0 for x in range( self.__tamanio) ]\n",
        "\n",
        "    def to_string( self ):\n",
        "        info = \"\"\n",
        "        for dato in self.__data:\n",
        "            info = info + str(dato) + \"|\"\n",
        "        return info\n",
        "\n",
        "    def get_item( self, index ):\n",
        "        return self.__data[index]\n",
        "    \n",
        "    def get_lenght( self ):\n",
        "        return len( self.__data )\n",
        "\n",
        "    def set_item( self, dato, index ):\n",
        "        #Hace falta revisar los limites\n",
        "        if index >=0 and index < self.get_lenght():\n",
        "            self.__data[index] = dato\n",
        "        else: \n",
        "            print(\"Error: Indice fuera de rango\")\n",
        "\n",
        "    def clear( self, dato ):\n",
        "        self.__data = [ dato for x in range( self.__tamanio) ]\n",
        "\n",
        "\n",
        "\n",
        "ejemplo = Array(20)\n",
        "print( ejemplo.to_string() )\n",
        "print( ejemplo.get_item(2) )\n",
        "ejemplo.set_item(45, 2)\n",
        "print( ejemplo.to_string() )\n",
        "ejemplo.clear(4)\n",
        "print( ejemplo.to_string() )\n",
        "print(ejemplo.get_lenght() )"
      ],
      "execution_count": 26,
      "outputs": [
        {
          "output_type": "stream",
          "name": "stdout",
          "text": [
            "0|0|0|0|0|0|0|0|0|0|0|0|0|0|0|0|0|0|0|0|\n",
            "0\n",
            "0|0|45|0|0|0|0|0|0|0|0|0|0|0|0|0|0|0|0|0|\n",
            "4|4|4|4|4|4|4|4|4|4|4|4|4|4|4|4|4|4|4|4|\n",
            "20\n"
          ]
        }
      ]
    },
    {
      "cell_type": "code",
      "metadata": {
        "colab": {
          "base_uri": "https://localhost:8080/"
        },
        "id": "g7-LnyHQggDy",
        "outputId": "c6adc46a-12ff-4a8f-b54f-b27fe34cd20f"
      },
      "source": [
        "lista = [ 3*x for x in range(10) ]\n",
        "print( lista )"
      ],
      "execution_count": 2,
      "outputs": [
        {
          "output_type": "stream",
          "name": "stdout",
          "text": [
            "[0, 3, 6, 9, 12, 15, 18, 21, 24, 27]\n"
          ]
        }
      ]
    },
    {
      "cell_type": "markdown",
      "metadata": {
        "id": "tLcXUjEUlSh3"
      },
      "source": [
        "La carpeta de datos es volatil...\n"
      ]
    },
    {
      "cell_type": "code",
      "metadata": {
        "colab": {
          "base_uri": "https://localhost:8080/"
        },
        "id": "O-A-mlsHltaI",
        "outputId": "f19cc95a-5228-4b4c-d0d7-e05188c0dca5"
      },
      "source": [
        "!ls -la"
      ],
      "execution_count": null,
      "outputs": [
        {
          "output_type": "stream",
          "name": "stdout",
          "text": [
            "total 20\n",
            "drwxr-xr-x 1 root root 4096 Oct  7 16:26 .\n",
            "drwxr-xr-x 1 root root 4096 Oct  7 16:16 ..\n",
            "drwxr-xr-x 4 root root 4096 Sep 30 17:11 .config\n",
            "-rw-r--r-- 1 root root  640 Oct  7 16:26 junio.dat\n",
            "drwxr-xr-x 1 root root 4096 Sep 30 17:12 sample_data\n"
          ]
        }
      ]
    },
    {
      "cell_type": "code",
      "metadata": {
        "colab": {
          "base_uri": "https://localhost:8080/"
        },
        "id": "SliMVyCumzeF",
        "outputId": "a85e7694-bce2-4b98-dd1d-20df7e3150af"
      },
      "source": [
        "!cat junio.dat"
      ],
      "execution_count": null,
      "outputs": [
        {
          "output_type": "stream",
          "name": "stdout",
          "text": [
            "numero de trabajador, nombres, paterno, materno, horas extra, sueldo base, año de ingreso\r\n",
            "2345,CARLOS,PEREZ,CASTILLO,0,9850,2017\r\n",
            "5754,ANGEL,GOMEZ,GARRIDO,1,9850,2020\r\n",
            "5345,JESUS,MARTIN,SANTOS,2,9850,2016\r\n",
            "3267,DAVID,JIMENEZ,LOZANO,2,9850,2017\r\n",
            "8765,PEDRO,RUIZ,GUERRERO,2,9850,2017\r\n",
            "5454,DANIEL,HERNANDEZ,CANO,3,9850,2018\r\n",
            "3456,ALEJANDRO,DIAZ,PRIETO,2,9850,2018\r\n",
            "3445,MARIA,MORENO,MENDEZ,1,9850,2018\r\n",
            "9088,ALBERTO,MU�OZ,CRUZ,1,9850,2017\r\n",
            "8877,RAFAEL,ALVAREZ,FLORES,2,9850,2017\r\n",
            "6767,FERNANDO,ROMERO,HERRERA,4,9850,2019\r\n",
            "5654,PABLO,ALONSO,GALLEGO,1,9850,2019\r\n",
            "4323,JORGE,GUTIERREZ,MARQUEZ,2,9850,2020\r\n",
            "2232,RAMON,NAVARRO,LEON,1,9850,2016"
          ]
        }
      ]
    },
    {
      "cell_type": "code",
      "metadata": {
        "colab": {
          "base_uri": "https://localhost:8080/"
        },
        "id": "HgviRINCm830",
        "outputId": "d866b394-3499-4951-8ff5-2c33f59fc7e0"
      },
      "source": [
        "archivo = open( 'junio.dat', 'rt', encoding = 'latin-1' )\n",
        "print(archivo.read() )"
      ],
      "execution_count": null,
      "outputs": [
        {
          "output_type": "stream",
          "name": "stdout",
          "text": [
            "numero de trabajador, nombres, paterno, materno, horas extra, sueldo base, aÃ±o de ingreso\n",
            "2345,CARLOS,PEREZ,CASTILLO,0,9850,2017\n",
            "5754,ANGEL,GOMEZ,GARRIDO,1,9850,2020\n",
            "5345,JESUS,MARTIN,SANTOS,2,9850,2016\n",
            "3267,DAVID,JIMENEZ,LOZANO,2,9850,2017\n",
            "8765,PEDRO,RUIZ,GUERRERO,2,9850,2017\n",
            "5454,DANIEL,HERNANDEZ,CANO,3,9850,2018\n",
            "3456,ALEJANDRO,DIAZ,PRIETO,2,9850,2018\n",
            "3445,MARIA,MORENO,MENDEZ,1,9850,2018\n",
            "9088,ALBERTO,MUï¿½OZ,CRUZ,1,9850,2017\n",
            "8877,RAFAEL,ALVAREZ,FLORES,2,9850,2017\n",
            "6767,FERNANDO,ROMERO,HERRERA,4,9850,2019\n",
            "5654,PABLO,ALONSO,GALLEGO,1,9850,2019\n",
            "4323,JORGE,GUTIERREZ,MARQUEZ,2,9850,2020\n",
            "2232,RAMON,NAVARRO,LEON,1,9850,2016\n"
          ]
        }
      ]
    },
    {
      "cell_type": "code",
      "metadata": {
        "id": "crgMLTHen45U",
        "colab": {
          "base_uri": "https://localhost:8080/",
          "height": 195
        },
        "outputId": "e5c18cb6-b945-4b93-b9de-bd203d05ae11"
      },
      "source": [
        "class Trabajador:\n",
        "    \n",
        "    def __init__( self, nt, nom, pat, mat, he, sb, ai ):\n",
        "        self.__numero_trabajador = nt\n",
        "        self.__nombre = nom\n",
        "        self.__paterno = pat\n",
        "        self.__materno = mat\n",
        "        self.__horas_extra = he\n",
        "        self.__sueldo_base = sb\n",
        "        self.__anio_ingreso = ai\n",
        "        #asi para todos los atributos\n",
        "\n",
        "    #aqui los metodos de acceso\n",
        "    def set_numero_trabajador( self, nt):\n",
        "        self.__numero_trabajador = nt\n",
        "    def set_nombre( self, nom ):\n",
        "        self.__nombre = nom\n",
        "    def set_paterno( self, pat):\n",
        "        self.__paterno = pat\n",
        "    def set_materno( self, mat ):\n",
        "        self.__materno = mat\n",
        "    def set_horas_extra( self, he ):\n",
        "        self.__horas_extra = he\n",
        "    def set_sueldo_base( self, sb ):\n",
        "        self.__sueldo_base = sb\n",
        "    def set_anio_ingreso( self, ai ):\n",
        "        self.__anio_ingreso = ai\n",
        "\n",
        "\n",
        "\n",
        "    # metodos de uso general. --> metodos que hacen calculos de la logica de negocio.\n",
        "\n",
        "print( Trabajador.get_anio_ingreso() )"
      ],
      "execution_count": 22,
      "outputs": [
        {
          "output_type": "error",
          "ename": "AttributeError",
          "evalue": "ignored",
          "traceback": [
            "\u001b[0;31m---------------------------------------------------------------------------\u001b[0m",
            "\u001b[0;31mAttributeError\u001b[0m                            Traceback (most recent call last)",
            "\u001b[0;32m<ipython-input-22-7bddf6298526>\u001b[0m in \u001b[0;36m<module>\u001b[0;34m()\u001b[0m\n\u001b[1;32m     31\u001b[0m     \u001b[0;31m# metodos de uso general. --> metodos que hacen calculos de la logica de negocio.\u001b[0m\u001b[0;34m\u001b[0m\u001b[0;34m\u001b[0m\u001b[0;34m\u001b[0m\u001b[0m\n\u001b[1;32m     32\u001b[0m \u001b[0;34m\u001b[0m\u001b[0m\n\u001b[0;32m---> 33\u001b[0;31m \u001b[0mprint\u001b[0m\u001b[0;34m(\u001b[0m \u001b[0mTrabajador\u001b[0m\u001b[0;34m.\u001b[0m\u001b[0mget_anio_ingreso\u001b[0m\u001b[0;34m(\u001b[0m\u001b[0;34m)\u001b[0m \u001b[0;34m)\u001b[0m\u001b[0;34m\u001b[0m\u001b[0;34m\u001b[0m\u001b[0m\n\u001b[0m",
            "\u001b[0;31mAttributeError\u001b[0m: type object 'Trabajador' has no attribute 'get_anio_ingreso'"
          ]
        }
      ]
    },
    {
      "cell_type": "code",
      "metadata": {
        "id": "PlB1piSBqBpL"
      },
      "source": [
        "class NominaADT:\n",
        "    def __init__( self, ruta_archivo ):\n",
        "        # abrir el archivo y determinar el numero de empleados.\n",
        "        self.__data = Array( num_emp )\n",
        "\n",
        "    def calcular_sueldos( self ):\n",
        "        #iterar sobre el array y hacer el calculo de sueldos.\n",
        "\n",
        "    def buscar_mas_antiguo( self ):\n",
        "        #iterar y buscar en el array el de mayor antiguedad.\n",
        "\n",
        "    def buscar_menor_antiguedad( self ):\n",
        "        # idem"
      ],
      "execution_count": null,
      "outputs": []
    }
  ]
}