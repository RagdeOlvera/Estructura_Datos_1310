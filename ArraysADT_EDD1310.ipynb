{
  "nbformat": 4,
  "nbformat_minor": 0,
  "metadata": {
    "colab": {
      "name": "ArraysADT_EDD1310.ipynb",
      "provenance": [],
      "authorship_tag": "ABX9TyNjTTCfunSq6Nn0m2xfpr87",
      "include_colab_link": true
    },
    "kernelspec": {
      "name": "python3",
      "display_name": "Python 3"
    },
    "language_info": {
      "name": "python"
    }
  },
  "cells": [
    {
      "cell_type": "markdown",
      "metadata": {
        "id": "view-in-github",
        "colab_type": "text"
      },
      "source": [
        "<a href=\"https://colab.research.google.com/github/RagdeOlvera/Estructura_Datos_1310/blob/main/ArraysADT_EDD1310.ipynb\" target=\"_parent\"><img src=\"https://colab.research.google.com/assets/colab-badge.svg\" alt=\"Open In Colab\"/></a>"
      ]
    },
    {
      "cell_type": "code",
      "metadata": {
        "colab": {
          "base_uri": "https://localhost:8080/"
        },
        "id": "mRaHHzVFflQA",
        "outputId": "0a8fcee0-3fcc-4dca-a268-594e4f21ece3"
      },
      "source": [
        "class Array:\n",
        "    def __init__( self , tam ):\n",
        "        self.__tamanio = tam\n",
        "        self.__data = [ 0 for x in range( self.__tamanio) ]\n",
        "\n",
        "    def to_string( self ):\n",
        "        info = \"\"\n",
        "        for dato in self.__data:\n",
        "            info = info + str(dato) + \"|\"\n",
        "        return info\n",
        "\n",
        "    def get_item( self, index ):\n",
        "        return self.__data[index]\n",
        "    \n",
        "    def get_lenght( self ):\n",
        "        return len( self.__data )\n",
        "\n",
        "    def set_item( self, dato, index ):\n",
        "        #Hace falta revisar los limites\n",
        "        if index >=0 and index < self.get_lenght():\n",
        "            self.__data[index] = dato\n",
        "        else: \n",
        "            print(\"Error: Indice fuera de rango\")\n",
        "\n",
        "    def clear( self, dato ):\n",
        "        self.__data = [ dato for x in range( self.__tamanio) ]\n",
        "\n",
        "\n",
        "\n",
        "ejemplo = Array(20)\n",
        "print( ejemplo.to_string() )\n",
        "print( ejemplo.get_item(2) )\n",
        "ejemplo.set_item(45, 2)\n",
        "print( ejemplo.to_string() )\n",
        "ejemplo.clear(4)\n",
        "print( ejemplo.to_string() )\n",
        "print(ejemplo.get_lenght() )"
      ],
      "execution_count": null,
      "outputs": [
        {
          "output_type": "stream",
          "name": "stdout",
          "text": [
            "0|0|0|0|0|0|0|0|0|0|0|0|0|0|0|0|0|0|0|0|\n",
            "0\n",
            "0|0|45|0|0|0|0|0|0|0|0|0|0|0|0|0|0|0|0|0|\n",
            "4|4|4|4|4|4|4|4|4|4|4|4|4|4|4|4|4|4|4|4|\n",
            "20\n"
          ]
        }
      ]
    },
    {
      "cell_type": "code",
      "metadata": {
        "colab": {
          "base_uri": "https://localhost:8080/"
        },
        "id": "g7-LnyHQggDy",
        "outputId": "f0e9c0bf-6e0c-43cd-b3ed-ee40cd0fa1a6"
      },
      "source": [
        "lista = [ 3*x for x in range(10) ]\n",
        "print( lista )"
      ],
      "execution_count": null,
      "outputs": [
        {
          "output_type": "stream",
          "name": "stdout",
          "text": [
            "[0, 3, 6, 9, 12, 15, 18, 21, 24, 27]\n"
          ]
        }
      ]
    },
    {
      "cell_type": "markdown",
      "metadata": {
        "id": "tLcXUjEUlSh3"
      },
      "source": [
        "La carpeta de datos es volatil...\n"
      ]
    },
    {
      "cell_type": "code",
      "metadata": {
        "colab": {
          "base_uri": "https://localhost:8080/"
        },
        "id": "O-A-mlsHltaI",
        "outputId": "5c329322-f673-49fa-db55-3cde8f451041"
      },
      "source": [
        "!ls -la"
      ],
      "execution_count": null,
      "outputs": [
        {
          "output_type": "stream",
          "name": "stdout",
          "text": [
            "total 20\n",
            "drwxr-xr-x 1 root root 4096 Oct 13 02:18 .\n",
            "drwxr-xr-x 1 root root 4096 Oct 13 02:14 ..\n",
            "drwxr-xr-x 4 root root 4096 Oct  8 13:44 .config\n",
            "-rw-r--r-- 1 root root  638 Oct 13 02:18 junio.dat\n",
            "drwxr-xr-x 1 root root 4096 Oct  8 13:45 sample_data\n"
          ]
        }
      ]
    },
    {
      "cell_type": "code",
      "metadata": {
        "colab": {
          "base_uri": "https://localhost:8080/"
        },
        "id": "SliMVyCumzeF",
        "outputId": "eb5623c1-a0f3-4a94-f920-85d00500af8b"
      },
      "source": [
        "!cat junio.dat"
      ],
      "execution_count": null,
      "outputs": [
        {
          "output_type": "stream",
          "name": "stdout",
          "text": [
            "numero de trabajador, nombres, paterno, materno, horas extra, sueldo base, año de ingreso\r\n",
            "2345,CARLOS,PEREZ,CASTILLO,0,9850,2017\r\n",
            "5754,ANGEL,GOMEZ,GARRIDO,1,9850,2020\r\n",
            "5345,JESUS,MARTIN,SANTOS,2,9850,2016\r\n",
            "3267,DAVID,JIMENEZ,LOZANO,2,9850,2017\r\n",
            "8765,PEDRO,RUIZ,GUERRERO,2,9850,2017\r\n",
            "5454,DANIEL,HERNANDEZ,CANO,3,9850,2018\r\n",
            "3456,ALEJANDRO,DIAZ,PRIETO,2,9850,2018\r\n",
            "3445,MARIA,MORENO,MENDEZ,1,9850,2018\r\n",
            "9088,ALBERTO,MU�OZ,CRUZ,1,9850,2017\r\n",
            "8877,RAFAEL,ALVAREZ,FLORES,2,9850,2017\r\n",
            "6767,FERNANDO,ROMERO,HERRERA,4,9850,2019\r\n",
            "5654,PABLO,ALONSO,GALLEGO,1,9850,2019\r\n",
            "4323,JORGE,GUTIERREZ,MARQUEZ,2,9850,2020\r\n",
            "2232,RAMON,NAVARRO,LEON,1,9850,2016"
          ]
        }
      ]
    },
    {
      "cell_type": "code",
      "metadata": {
        "colab": {
          "base_uri": "https://localhost:8080/"
        },
        "id": "HgviRINCm830",
        "outputId": "5c5e0b82-6304-4164-8a72-d5dfc5f393f9"
      },
      "source": [
        "archivo = open( 'junio.dat', 'rt', encoding = 'latin-1' )\n",
        "print(archivo.read() )"
      ],
      "execution_count": null,
      "outputs": [
        {
          "output_type": "stream",
          "name": "stdout",
          "text": [
            "numero de trabajador, nombres, paterno, materno, horas extra, sueldo base, aÃ±o de ingreso\n",
            "2345,CARLOS,PEREZ,CASTILLO,0,9850,2017\n",
            "5754,ANGEL,GOMEZ,GARRIDO,1,9850,2020\n",
            "5345,JESUS,MARTIN,SANTOS,2,9850,2016\n",
            "3267,DAVID,JIMENEZ,LOZANO,2,9850,2017\n",
            "8765,PEDRO,RUIZ,GUERRERO,2,9850,2017\n",
            "5454,DANIEL,HERNANDEZ,CANO,3,9850,2018\n",
            "3456,ALEJANDRO,DIAZ,PRIETO,2,9850,2018\n",
            "3445,MARIA,MORENO,MENDEZ,1,9850,2018\n",
            "9088,ALBERTO,MUOZ,CRUZ,1,9850,2017\n",
            "8877,RAFAEL,ALVAREZ,FLORES,2,9850,2017\n",
            "6767,FERNANDO,ROMERO,HERRERA,4,9850,2019\n",
            "5654,PABLO,ALONSO,GALLEGO,1,9850,2019\n",
            "4323,JORGE,GUTIERREZ,MARQUEZ,2,9850,2020\n",
            "2232,RAMON,NAVARRO,LEON,1,9850,2016\n"
          ]
        }
      ]
    },
    {
      "cell_type": "code",
      "metadata": {
        "id": "crgMLTHen45U",
        "colab": {
          "base_uri": "https://localhost:8080/"
        },
        "outputId": "8191aeb6-f40d-4281-bab3-4c363686e5ae"
      },
      "source": [
        "class Trabajador:\n",
        "    \n",
        "    def __init__( self, nt, nom, pat, mat, he, sb, ai ):\n",
        "        self.__numero_trabajador = nt\n",
        "        self.__nombre = nom\n",
        "        self.__paterno = pat\n",
        "        self.__materno = mat\n",
        "        self.__horas_extra = he\n",
        "        self.__sueldo_base = sb\n",
        "        self.__anio_ingreso = ai\n",
        "        #asi para todos los atributos\n",
        "\n",
        "    #aqui los metodos de acceso\n",
        "    def set_numero_trabajador( self, nt):\n",
        "        self.__numero_trabajador = nt\n",
        "    def get_numero_trabajador( self):\n",
        "        return self.__numero_trabajador\n",
        "\n",
        "    def set_nombre( self, nom ):\n",
        "        self.__nombre = nom\n",
        "    def get_nombre( self ):\n",
        "        return self.__nombre\n",
        "\n",
        "    def set_paterno( self, pat):\n",
        "        self.__paterno = pat\n",
        "    def get_paterno( self ):\n",
        "        return self.__paterno\n",
        "\n",
        "    def set_materno( self, mat ):\n",
        "        self.__materno = mat\n",
        "    def get_materno( self ):\n",
        "        return self.__materno\n",
        "\n",
        "    def set_horas_extra( self, he ):\n",
        "        self.__horas_extra = he\n",
        "    def get_horas_extra( self ):\n",
        "        return self.__horas_extra\n",
        "\n",
        "    def set_sueldo_base( self, sb ):\n",
        "        self.__sueldo_base = sb\n",
        "    def get_sueldo_base( self ):\n",
        "        return self.__sueldo_base\n",
        "\n",
        "    def set_anio_ingreso( self, ai ):\n",
        "        self.__anio_ingreso = ai\n",
        "    def get_anio_ingreso( self ):\n",
        "        return self.__anio_ingreso\n",
        "\n",
        "\n",
        "\n",
        "    # metodos de uso general. --> metodos que hacen calculos de la logica de negocio.\n",
        "    def calcular_sueldo_mensual( self ):\n",
        "        anios = 2021 - self.get_anio_ingreso()\n",
        "\n",
        "        sueldo = self.get_sueldo_base()\n",
        "        #agregar horas\n",
        "        sueldo += self.get_horas_extra() * 276.5\n",
        "        #agregar prestacion por antiguedad\n",
        "        sueldo = sueldo + (sueldo * anios * 0.03)\n",
        "        return sueldo\n",
        "\n",
        "    def to_string( self ):\n",
        "        return  \"Sueldo: $\"+ str(self.calcular_sueldo_mensual()) + \"\\t| | Nombre: \" + self.__nombre + \"  \" +  self.__paterno + \"  \" + self.__materno\n",
        "\n",
        "    def calcular_antiguedad( self ):\n",
        "        anios = self.get_anio_ingreso()\n",
        "        anios = 2021 - anios\n",
        "        return anios\n",
        "\n",
        "    \n",
        "    def ordenar_antiguedad( self):\n",
        "        return \"Antiguedad: \" + str(self.calcular_antiguedad()) +\" años.\" + \" | Nombre: \" + self.__nombre   \n",
        "\n",
        "    def identificador(self):\n",
        "        return \"El trabajador con mas antiguedad es: \" + self.__nombre + \" \" + self.__paterno + \" \" + self.__materno + \" y tiene \" + str(self.calcular_antiguedad()) + \" años.\"\n",
        "\n",
        "    def identificador2(self):\n",
        "        return \"El trabajador con menos antiguedad es: \" + self.__nombre + \" \" + self.__paterno + \" \" + self.__materno + \" y tiene \" + str(self.calcular_antiguedad()) + \" años.\"\n",
        "    \n",
        "emp = Trabajador( 2345,'CARLOS','PEREZ','CASTILLO',1,9850,2017)\n",
        "print(emp.get_sueldo_base())\n",
        "print(emp.get_horas_extra())\n",
        "print(emp.calcular_antiguedad())\n",
        "print(emp.to_string()) "
      ],
      "execution_count": 193,
      "outputs": [
        {
          "output_type": "stream",
          "name": "stdout",
          "text": [
            "9850\n",
            "1\n",
            "4\n",
            "Sueldo: $11341.68\t| | Nombre: CARLOS  PEREZ  CASTILLO\n"
          ]
        }
      ]
    },
    {
      "cell_type": "code",
      "metadata": {
        "id": "PlB1piSBqBpL",
        "colab": {
          "base_uri": "https://localhost:8080/"
        },
        "outputId": "93e8bec7-d57f-4bce-c117-b5b76248c788"
      },
      "source": [
        "class NominaADT:\n",
        "    def __init__( self, ruta_archivo ):\n",
        "        # abrir el archivo y determinar el numero de empleados.\n",
        "        archivo = open( ruta_archivo, 'rt', encoding = 'latin-1' )\n",
        "        empleados = archivo.readlines()\n",
        "        del empleados[0]\n",
        "        for index in range(len(empleados)):\n",
        "            empleados[index] = empleados[index].strip().split(',')\n",
        "        self.__data = Array( len(empleados) )\n",
        "        cont = 0\n",
        "        for emp in empleados:\n",
        "            tmp = Trabajador(emp[0] , emp[1] , emp[2] , emp [3] , int(emp[4]) , int(emp[5]) , int(emp[6] ) )\n",
        "            self.__data.set_item (tmp , cont)\n",
        "            cont += 1\n",
        "\n",
        "# Antiguedad\n",
        "    def orden_antiguo( self ):\n",
        "        #iterar y buscar en el array el de mayor antiguedad.\n",
        "        for index in range(self.__data.get_lenght()):\n",
        "            print(self.__data.get_item(index).ordenar_antiguedad() )\n",
        "\n",
        "# Sueldos    \n",
        "    def calcular_sueldos( self ):\n",
        "        for index in range(self.__data.get_lenght()):\n",
        "            print(self.__data.get_item(index).to_string() )\n",
        "\n",
        "\n",
        "\n",
        "# Mayor antiguedad\n",
        "    def buscar_mas_antiguo(self):\n",
        "        mayor = Trabajador(2345,'CARLOS','PEREZ','CASTILLO',0,9850,2017)\n",
        "        menor = Trabajador(2345,'CARLOS','PEREZ','CASTILLO',0,9850,2017)\n",
        "\n",
        "        for index in range(self.__data.get_lenght()):\n",
        "            if mayor.calcular_antiguedad() < menor.calcular_antiguedad():\n",
        "                mayor = menor\n",
        "                menor = self.__data.get_item(index)\n",
        "            else:\n",
        "                menor = self.__data.get_item(index)\n",
        "        print(mayor.identificador())\n",
        "\n",
        "\n",
        "# Menor Antiguedad\n",
        "    def buscar_menos_antiguo(self):\n",
        "        mayor = Trabajador(2345,'CARLOS','PEREZ','CASTILLO',0,9850,2017)\n",
        "        menor = Trabajador(2345,'CARLOS','PEREZ','CASTILLO',0,9850,2017)\n",
        "\n",
        "        for index in range(self.__data.get_lenght()):\n",
        "            if mayor.calcular_antiguedad() < menor.calcular_antiguedad():\n",
        "                menor = mayor\n",
        "                mayor = self.__data.get_item(index)\n",
        "            else:\n",
        "                mayor = self.__data.get_item(index)\n",
        "        print(menor.identificador2())\n",
        "\n",
        "\n",
        "ejemplo = NominaADT(\"junio.dat\")\n",
        "ejemplo.calcular_sueldos()\n",
        "print(\"\\n\\n\")\n",
        "ejemplo.orden_antiguo()\n",
        "print(\"\\n\\n\")\n",
        "ejemplo.buscar_mas_antiguo()\n",
        "ejemplo.buscar_menos_antiguo()"
      ],
      "execution_count": 208,
      "outputs": [
        {
          "output_type": "stream",
          "name": "stdout",
          "text": [
            "Sueldo: $11032.0\t| | Nombre: CARLOS  PEREZ  CASTILLO\n",
            "Sueldo: $10430.295\t| | Nombre: ANGEL  GOMEZ  GARRIDO\n",
            "Sueldo: $11963.45\t| | Nombre: JESUS  MARTIN  SANTOS\n",
            "Sueldo: $11651.36\t| | Nombre: DAVID  JIMENEZ  LOZANO\n",
            "Sueldo: $11651.36\t| | Nombre: PEDRO  RUIZ  GUERRERO\n",
            "Sueldo: $11640.655\t| | Nombre: DANIEL  HERNANDEZ  CANO\n",
            "Sueldo: $11339.27\t| | Nombre: ALEJANDRO  DIAZ  PRIETO\n",
            "Sueldo: $11037.885\t| | Nombre: MARIA  MORENO  MENDEZ\n",
            "Sueldo: $11341.68\t| | Nombre: ALBERTO  MUOZ  CRUZ\n",
            "Sueldo: $11651.36\t| | Nombre: RAFAEL  ALVAREZ  FLORES\n",
            "Sueldo: $11613.36\t| | Nombre: FERNANDO  ROMERO  HERRERA\n",
            "Sueldo: $10734.09\t| | Nombre: PABLO  ALONSO  GALLEGO\n",
            "Sueldo: $10715.09\t| | Nombre: JORGE  GUTIERREZ  MARQUEZ\n",
            "Sueldo: $11645.475\t| | Nombre: RAMON  NAVARRO  LEON\n",
            "\n",
            "\n",
            "\n",
            "Antiguedad: 4 años. | Nombre: CARLOS\n",
            "Antiguedad: 1 años. | Nombre: ANGEL\n",
            "Antiguedad: 5 años. | Nombre: JESUS\n",
            "Antiguedad: 4 años. | Nombre: DAVID\n",
            "Antiguedad: 4 años. | Nombre: PEDRO\n",
            "Antiguedad: 3 años. | Nombre: DANIEL\n",
            "Antiguedad: 3 años. | Nombre: ALEJANDRO\n",
            "Antiguedad: 3 años. | Nombre: MARIA\n",
            "Antiguedad: 4 años. | Nombre: ALBERTO\n",
            "Antiguedad: 4 años. | Nombre: RAFAEL\n",
            "Antiguedad: 2 años. | Nombre: FERNANDO\n",
            "Antiguedad: 2 años. | Nombre: PABLO\n",
            "Antiguedad: 1 años. | Nombre: JORGE\n",
            "Antiguedad: 5 años. | Nombre: RAMON\n",
            "\n",
            "\n",
            "\n",
            "El trabajador con mas antiguedad es: JESUS MARTIN SANTOS y tiene 5 años.\n",
            "El trabajador con menos antiguedad es: ANGEL GOMEZ GARRIDO y tiene 1 años.\n"
          ]
        }
      ]
    }
  ]
}